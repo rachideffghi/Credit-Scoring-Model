{
 "cells": [
  {
   "cell_type": "markdown",
   "metadata": {
    "id": "xit_H_O8oUxx"
   },
   "source": [
    "## Data Pre-processing "
   ]
  },
  {
   "cell_type": "code",
   "execution_count": 1,
   "metadata": {
    "id": "J6iOMxrHDNHS"
   },
   "outputs": [],
   "source": [
    "# install packages "
   ]
  },
  {
   "cell_type": "code",
   "execution_count": 2,
   "metadata": {
    "id": "ODGAIH0pDZn6"
   },
   "outputs": [],
   "source": [
    "# import packapges\n",
    "import pandas as pd\n",
    "import numpy as np\n",
    "import matplotlib.pyplot as plt\n",
    "import seaborn as sns"
   ]
  },
  {
   "cell_type": "code",
   "execution_count": 3,
   "metadata": {
    "id": "qdeHVES6DcPq"
   },
   "outputs": [],
   "source": [
    "# importing data \n",
    "df = pd.read_excel('/Credit data.xlsx')\n"
   ]
  },
  {
   "cell_type": "code",
   "execution_count": 4,
   "metadata": {
    "colab": {
     "base_uri": "https://localhost:8080/",
     "height": 505
    },
    "id": "V4FhLx_HGSO-",
    "outputId": "bf6948bf-5054-49c2-d79b-239b241a47dd"
   },
   "outputs": [
    {
     "data": {
      "text/html": [
       "\n",
       "  <div id=\"df-8d018a2a-9627-4350-abf6-3f8c90a6ad9c\">\n",
       "    <div class=\"colab-df-container\">\n",
       "      <div>\n",
       "<style scoped>\n",
       "    .dataframe tbody tr th:only-of-type {\n",
       "        vertical-align: middle;\n",
       "    }\n",
       "\n",
       "    .dataframe tbody tr th {\n",
       "        vertical-align: top;\n",
       "    }\n",
       "\n",
       "    .dataframe thead th {\n",
       "        text-align: right;\n",
       "    }\n",
       "</style>\n",
       "<table border=\"1\" class=\"dataframe\">\n",
       "  <thead>\n",
       "    <tr style=\"text-align: right;\">\n",
       "      <th></th>\n",
       "      <th>SeriousDlqin2yrs</th>\n",
       "      <th>RevolvingUtilizationOfUnsecuredLines</th>\n",
       "      <th>age</th>\n",
       "      <th>NumberOfTime30-59DaysPastDueNotWorse</th>\n",
       "      <th>DebtRatio</th>\n",
       "      <th>MonthlyIncome</th>\n",
       "      <th>NumberOfOpenCreditLinesAndLoans</th>\n",
       "      <th>NumberOfTimes90DaysLate</th>\n",
       "      <th>NumberRealEstateLoansOrLines</th>\n",
       "      <th>NumberOfTime60-89DaysPastDueNotWorse</th>\n",
       "      <th>NumberOfDependents</th>\n",
       "    </tr>\n",
       "  </thead>\n",
       "  <tbody>\n",
       "    <tr>\n",
       "      <th>0</th>\n",
       "      <td>1</td>\n",
       "      <td>0.766127</td>\n",
       "      <td>45</td>\n",
       "      <td>2</td>\n",
       "      <td>0.802982</td>\n",
       "      <td>9120.0</td>\n",
       "      <td>13</td>\n",
       "      <td>0</td>\n",
       "      <td>6</td>\n",
       "      <td>0</td>\n",
       "      <td>2.0</td>\n",
       "    </tr>\n",
       "    <tr>\n",
       "      <th>1</th>\n",
       "      <td>0</td>\n",
       "      <td>0.957151</td>\n",
       "      <td>40</td>\n",
       "      <td>0</td>\n",
       "      <td>0.121876</td>\n",
       "      <td>2600.0</td>\n",
       "      <td>4</td>\n",
       "      <td>0</td>\n",
       "      <td>0</td>\n",
       "      <td>0</td>\n",
       "      <td>1.0</td>\n",
       "    </tr>\n",
       "    <tr>\n",
       "      <th>2</th>\n",
       "      <td>0</td>\n",
       "      <td>0.658180</td>\n",
       "      <td>38</td>\n",
       "      <td>1</td>\n",
       "      <td>0.085113</td>\n",
       "      <td>3042.0</td>\n",
       "      <td>2</td>\n",
       "      <td>1</td>\n",
       "      <td>0</td>\n",
       "      <td>0</td>\n",
       "      <td>0.0</td>\n",
       "    </tr>\n",
       "    <tr>\n",
       "      <th>3</th>\n",
       "      <td>0</td>\n",
       "      <td>0.233810</td>\n",
       "      <td>30</td>\n",
       "      <td>0</td>\n",
       "      <td>0.036050</td>\n",
       "      <td>3300.0</td>\n",
       "      <td>5</td>\n",
       "      <td>0</td>\n",
       "      <td>0</td>\n",
       "      <td>0</td>\n",
       "      <td>0.0</td>\n",
       "    </tr>\n",
       "    <tr>\n",
       "      <th>4</th>\n",
       "      <td>0</td>\n",
       "      <td>0.907239</td>\n",
       "      <td>49</td>\n",
       "      <td>1</td>\n",
       "      <td>0.024926</td>\n",
       "      <td>63588.0</td>\n",
       "      <td>7</td>\n",
       "      <td>0</td>\n",
       "      <td>1</td>\n",
       "      <td>0</td>\n",
       "      <td>0.0</td>\n",
       "    </tr>\n",
       "    <tr>\n",
       "      <th>...</th>\n",
       "      <td>...</td>\n",
       "      <td>...</td>\n",
       "      <td>...</td>\n",
       "      <td>...</td>\n",
       "      <td>...</td>\n",
       "      <td>...</td>\n",
       "      <td>...</td>\n",
       "      <td>...</td>\n",
       "      <td>...</td>\n",
       "      <td>...</td>\n",
       "      <td>...</td>\n",
       "    </tr>\n",
       "    <tr>\n",
       "      <th>9995</th>\n",
       "      <td>0</td>\n",
       "      <td>0.629741</td>\n",
       "      <td>32</td>\n",
       "      <td>0</td>\n",
       "      <td>338.000000</td>\n",
       "      <td>NaN</td>\n",
       "      <td>2</td>\n",
       "      <td>0</td>\n",
       "      <td>0</td>\n",
       "      <td>0</td>\n",
       "      <td>0.0</td>\n",
       "    </tr>\n",
       "    <tr>\n",
       "      <th>9996</th>\n",
       "      <td>0</td>\n",
       "      <td>0.062614</td>\n",
       "      <td>62</td>\n",
       "      <td>0</td>\n",
       "      <td>745.000000</td>\n",
       "      <td>NaN</td>\n",
       "      <td>10</td>\n",
       "      <td>0</td>\n",
       "      <td>1</td>\n",
       "      <td>0</td>\n",
       "      <td>0.0</td>\n",
       "    </tr>\n",
       "    <tr>\n",
       "      <th>9997</th>\n",
       "      <td>0</td>\n",
       "      <td>0.827427</td>\n",
       "      <td>50</td>\n",
       "      <td>0</td>\n",
       "      <td>1904.000000</td>\n",
       "      <td>NaN</td>\n",
       "      <td>4</td>\n",
       "      <td>0</td>\n",
       "      <td>0</td>\n",
       "      <td>0</td>\n",
       "      <td>0.0</td>\n",
       "    </tr>\n",
       "    <tr>\n",
       "      <th>9998</th>\n",
       "      <td>0</td>\n",
       "      <td>0.091174</td>\n",
       "      <td>77</td>\n",
       "      <td>1</td>\n",
       "      <td>0.020636</td>\n",
       "      <td>10999.0</td>\n",
       "      <td>9</td>\n",
       "      <td>0</td>\n",
       "      <td>0</td>\n",
       "      <td>0</td>\n",
       "      <td>0.0</td>\n",
       "    </tr>\n",
       "    <tr>\n",
       "      <th>9999</th>\n",
       "      <td>0</td>\n",
       "      <td>0.000000</td>\n",
       "      <td>55</td>\n",
       "      <td>0</td>\n",
       "      <td>0.147588</td>\n",
       "      <td>12500.0</td>\n",
       "      <td>15</td>\n",
       "      <td>0</td>\n",
       "      <td>1</td>\n",
       "      <td>0</td>\n",
       "      <td>1.0</td>\n",
       "    </tr>\n",
       "  </tbody>\n",
       "</table>\n",
       "<p>10000 rows × 11 columns</p>\n",
       "</div>\n",
       "      <button class=\"colab-df-convert\" onclick=\"convertToInteractive('df-8d018a2a-9627-4350-abf6-3f8c90a6ad9c')\"\n",
       "              title=\"Convert this dataframe to an interactive table.\"\n",
       "              style=\"display:none;\">\n",
       "        \n",
       "  <svg xmlns=\"http://www.w3.org/2000/svg\" height=\"24px\"viewBox=\"0 0 24 24\"\n",
       "       width=\"24px\">\n",
       "    <path d=\"M0 0h24v24H0V0z\" fill=\"none\"/>\n",
       "    <path d=\"M18.56 5.44l.94 2.06.94-2.06 2.06-.94-2.06-.94-.94-2.06-.94 2.06-2.06.94zm-11 1L8.5 8.5l.94-2.06 2.06-.94-2.06-.94L8.5 2.5l-.94 2.06-2.06.94zm10 10l.94 2.06.94-2.06 2.06-.94-2.06-.94-.94-2.06-.94 2.06-2.06.94z\"/><path d=\"M17.41 7.96l-1.37-1.37c-.4-.4-.92-.59-1.43-.59-.52 0-1.04.2-1.43.59L10.3 9.45l-7.72 7.72c-.78.78-.78 2.05 0 2.83L4 21.41c.39.39.9.59 1.41.59.51 0 1.02-.2 1.41-.59l7.78-7.78 2.81-2.81c.8-.78.8-2.07 0-2.86zM5.41 20L4 18.59l7.72-7.72 1.47 1.35L5.41 20z\"/>\n",
       "  </svg>\n",
       "      </button>\n",
       "      \n",
       "  <style>\n",
       "    .colab-df-container {\n",
       "      display:flex;\n",
       "      flex-wrap:wrap;\n",
       "      gap: 12px;\n",
       "    }\n",
       "\n",
       "    .colab-df-convert {\n",
       "      background-color: #E8F0FE;\n",
       "      border: none;\n",
       "      border-radius: 50%;\n",
       "      cursor: pointer;\n",
       "      display: none;\n",
       "      fill: #1967D2;\n",
       "      height: 32px;\n",
       "      padding: 0 0 0 0;\n",
       "      width: 32px;\n",
       "    }\n",
       "\n",
       "    .colab-df-convert:hover {\n",
       "      background-color: #E2EBFA;\n",
       "      box-shadow: 0px 1px 2px rgba(60, 64, 67, 0.3), 0px 1px 3px 1px rgba(60, 64, 67, 0.15);\n",
       "      fill: #174EA6;\n",
       "    }\n",
       "\n",
       "    [theme=dark] .colab-df-convert {\n",
       "      background-color: #3B4455;\n",
       "      fill: #D2E3FC;\n",
       "    }\n",
       "\n",
       "    [theme=dark] .colab-df-convert:hover {\n",
       "      background-color: #434B5C;\n",
       "      box-shadow: 0px 1px 3px 1px rgba(0, 0, 0, 0.15);\n",
       "      filter: drop-shadow(0px 1px 2px rgba(0, 0, 0, 0.3));\n",
       "      fill: #FFFFFF;\n",
       "    }\n",
       "  </style>\n",
       "\n",
       "      <script>\n",
       "        const buttonEl =\n",
       "          document.querySelector('#df-8d018a2a-9627-4350-abf6-3f8c90a6ad9c button.colab-df-convert');\n",
       "        buttonEl.style.display =\n",
       "          google.colab.kernel.accessAllowed ? 'block' : 'none';\n",
       "\n",
       "        async function convertToInteractive(key) {\n",
       "          const element = document.querySelector('#df-8d018a2a-9627-4350-abf6-3f8c90a6ad9c');\n",
       "          const dataTable =\n",
       "            await google.colab.kernel.invokeFunction('convertToInteractive',\n",
       "                                                     [key], {});\n",
       "          if (!dataTable) return;\n",
       "\n",
       "          const docLinkHtml = 'Like what you see? Visit the ' +\n",
       "            '<a target=\"_blank\" href=https://colab.research.google.com/notebooks/data_table.ipynb>data table notebook</a>'\n",
       "            + ' to learn more about interactive tables.';\n",
       "          element.innerHTML = '';\n",
       "          dataTable['output_type'] = 'display_data';\n",
       "          await google.colab.output.renderOutput(dataTable, element);\n",
       "          const docLink = document.createElement('div');\n",
       "          docLink.innerHTML = docLinkHtml;\n",
       "          element.appendChild(docLink);\n",
       "        }\n",
       "      </script>\n",
       "    </div>\n",
       "  </div>\n",
       "  "
      ],
      "text/plain": [
       "      SeriousDlqin2yrs  RevolvingUtilizationOfUnsecuredLines  age  \\\n",
       "0                    1                              0.766127   45   \n",
       "1                    0                              0.957151   40   \n",
       "2                    0                              0.658180   38   \n",
       "3                    0                              0.233810   30   \n",
       "4                    0                              0.907239   49   \n",
       "...                ...                                   ...  ...   \n",
       "9995                 0                              0.629741   32   \n",
       "9996                 0                              0.062614   62   \n",
       "9997                 0                              0.827427   50   \n",
       "9998                 0                              0.091174   77   \n",
       "9999                 0                              0.000000   55   \n",
       "\n",
       "      NumberOfTime30-59DaysPastDueNotWorse    DebtRatio  MonthlyIncome  \\\n",
       "0                                        2     0.802982         9120.0   \n",
       "1                                        0     0.121876         2600.0   \n",
       "2                                        1     0.085113         3042.0   \n",
       "3                                        0     0.036050         3300.0   \n",
       "4                                        1     0.024926        63588.0   \n",
       "...                                    ...          ...            ...   \n",
       "9995                                     0   338.000000            NaN   \n",
       "9996                                     0   745.000000            NaN   \n",
       "9997                                     0  1904.000000            NaN   \n",
       "9998                                     1     0.020636        10999.0   \n",
       "9999                                     0     0.147588        12500.0   \n",
       "\n",
       "      NumberOfOpenCreditLinesAndLoans  NumberOfTimes90DaysLate  \\\n",
       "0                                  13                        0   \n",
       "1                                   4                        0   \n",
       "2                                   2                        1   \n",
       "3                                   5                        0   \n",
       "4                                   7                        0   \n",
       "...                               ...                      ...   \n",
       "9995                                2                        0   \n",
       "9996                               10                        0   \n",
       "9997                                4                        0   \n",
       "9998                                9                        0   \n",
       "9999                               15                        0   \n",
       "\n",
       "      NumberRealEstateLoansOrLines  NumberOfTime60-89DaysPastDueNotWorse  \\\n",
       "0                                6                                     0   \n",
       "1                                0                                     0   \n",
       "2                                0                                     0   \n",
       "3                                0                                     0   \n",
       "4                                1                                     0   \n",
       "...                            ...                                   ...   \n",
       "9995                             0                                     0   \n",
       "9996                             1                                     0   \n",
       "9997                             0                                     0   \n",
       "9998                             0                                     0   \n",
       "9999                             1                                     0   \n",
       "\n",
       "      NumberOfDependents  \n",
       "0                    2.0  \n",
       "1                    1.0  \n",
       "2                    0.0  \n",
       "3                    0.0  \n",
       "4                    0.0  \n",
       "...                  ...  \n",
       "9995                 0.0  \n",
       "9996                 0.0  \n",
       "9997                 0.0  \n",
       "9998                 0.0  \n",
       "9999                 1.0  \n",
       "\n",
       "[10000 rows x 11 columns]"
      ]
     },
     "execution_count": 4,
     "metadata": {},
     "output_type": "execute_result"
    }
   ],
   "source": [
    "df"
   ]
  },
  {
   "cell_type": "code",
   "execution_count": 5,
   "metadata": {
    "colab": {
     "base_uri": "https://localhost:8080/",
     "height": 287
    },
    "id": "iTaICjbEI_Bt",
    "outputId": "32185aa1-6e3b-4589-e31c-e41b6d8781b3"
   },
   "outputs": [
    {
     "data": {
      "text/html": [
       "\n",
       "  <div id=\"df-a0d95979-8cba-42ee-8f1c-3ebe99bc3301\">\n",
       "    <div class=\"colab-df-container\">\n",
       "      <div>\n",
       "<style scoped>\n",
       "    .dataframe tbody tr th:only-of-type {\n",
       "        vertical-align: middle;\n",
       "    }\n",
       "\n",
       "    .dataframe tbody tr th {\n",
       "        vertical-align: top;\n",
       "    }\n",
       "\n",
       "    .dataframe thead th {\n",
       "        text-align: right;\n",
       "    }\n",
       "</style>\n",
       "<table border=\"1\" class=\"dataframe\">\n",
       "  <thead>\n",
       "    <tr style=\"text-align: right;\">\n",
       "      <th></th>\n",
       "      <th>SeriousDlqin2yrs</th>\n",
       "      <th>RevolvingUtilizationOfUnsecuredLines</th>\n",
       "      <th>age</th>\n",
       "      <th>NumberOfTime30-59DaysPastDueNotWorse</th>\n",
       "      <th>DebtRatio</th>\n",
       "      <th>MonthlyIncome</th>\n",
       "      <th>NumberOfOpenCreditLinesAndLoans</th>\n",
       "      <th>NumberOfTimes90DaysLate</th>\n",
       "      <th>NumberRealEstateLoansOrLines</th>\n",
       "      <th>NumberOfTime60-89DaysPastDueNotWorse</th>\n",
       "      <th>NumberOfDependents</th>\n",
       "    </tr>\n",
       "  </thead>\n",
       "  <tbody>\n",
       "    <tr>\n",
       "      <th>0</th>\n",
       "      <td>1</td>\n",
       "      <td>0.766127</td>\n",
       "      <td>45</td>\n",
       "      <td>2</td>\n",
       "      <td>0.802982</td>\n",
       "      <td>9120.0</td>\n",
       "      <td>13</td>\n",
       "      <td>0</td>\n",
       "      <td>6</td>\n",
       "      <td>0</td>\n",
       "      <td>2.0</td>\n",
       "    </tr>\n",
       "    <tr>\n",
       "      <th>1</th>\n",
       "      <td>0</td>\n",
       "      <td>0.957151</td>\n",
       "      <td>40</td>\n",
       "      <td>0</td>\n",
       "      <td>0.121876</td>\n",
       "      <td>2600.0</td>\n",
       "      <td>4</td>\n",
       "      <td>0</td>\n",
       "      <td>0</td>\n",
       "      <td>0</td>\n",
       "      <td>1.0</td>\n",
       "    </tr>\n",
       "    <tr>\n",
       "      <th>2</th>\n",
       "      <td>0</td>\n",
       "      <td>0.658180</td>\n",
       "      <td>38</td>\n",
       "      <td>1</td>\n",
       "      <td>0.085113</td>\n",
       "      <td>3042.0</td>\n",
       "      <td>2</td>\n",
       "      <td>1</td>\n",
       "      <td>0</td>\n",
       "      <td>0</td>\n",
       "      <td>0.0</td>\n",
       "    </tr>\n",
       "    <tr>\n",
       "      <th>3</th>\n",
       "      <td>0</td>\n",
       "      <td>0.233810</td>\n",
       "      <td>30</td>\n",
       "      <td>0</td>\n",
       "      <td>0.036050</td>\n",
       "      <td>3300.0</td>\n",
       "      <td>5</td>\n",
       "      <td>0</td>\n",
       "      <td>0</td>\n",
       "      <td>0</td>\n",
       "      <td>0.0</td>\n",
       "    </tr>\n",
       "    <tr>\n",
       "      <th>4</th>\n",
       "      <td>0</td>\n",
       "      <td>0.907239</td>\n",
       "      <td>49</td>\n",
       "      <td>1</td>\n",
       "      <td>0.024926</td>\n",
       "      <td>63588.0</td>\n",
       "      <td>7</td>\n",
       "      <td>0</td>\n",
       "      <td>1</td>\n",
       "      <td>0</td>\n",
       "      <td>0.0</td>\n",
       "    </tr>\n",
       "  </tbody>\n",
       "</table>\n",
       "</div>\n",
       "      <button class=\"colab-df-convert\" onclick=\"convertToInteractive('df-a0d95979-8cba-42ee-8f1c-3ebe99bc3301')\"\n",
       "              title=\"Convert this dataframe to an interactive table.\"\n",
       "              style=\"display:none;\">\n",
       "        \n",
       "  <svg xmlns=\"http://www.w3.org/2000/svg\" height=\"24px\"viewBox=\"0 0 24 24\"\n",
       "       width=\"24px\">\n",
       "    <path d=\"M0 0h24v24H0V0z\" fill=\"none\"/>\n",
       "    <path d=\"M18.56 5.44l.94 2.06.94-2.06 2.06-.94-2.06-.94-.94-2.06-.94 2.06-2.06.94zm-11 1L8.5 8.5l.94-2.06 2.06-.94-2.06-.94L8.5 2.5l-.94 2.06-2.06.94zm10 10l.94 2.06.94-2.06 2.06-.94-2.06-.94-.94-2.06-.94 2.06-2.06.94z\"/><path d=\"M17.41 7.96l-1.37-1.37c-.4-.4-.92-.59-1.43-.59-.52 0-1.04.2-1.43.59L10.3 9.45l-7.72 7.72c-.78.78-.78 2.05 0 2.83L4 21.41c.39.39.9.59 1.41.59.51 0 1.02-.2 1.41-.59l7.78-7.78 2.81-2.81c.8-.78.8-2.07 0-2.86zM5.41 20L4 18.59l7.72-7.72 1.47 1.35L5.41 20z\"/>\n",
       "  </svg>\n",
       "      </button>\n",
       "      \n",
       "  <style>\n",
       "    .colab-df-container {\n",
       "      display:flex;\n",
       "      flex-wrap:wrap;\n",
       "      gap: 12px;\n",
       "    }\n",
       "\n",
       "    .colab-df-convert {\n",
       "      background-color: #E8F0FE;\n",
       "      border: none;\n",
       "      border-radius: 50%;\n",
       "      cursor: pointer;\n",
       "      display: none;\n",
       "      fill: #1967D2;\n",
       "      height: 32px;\n",
       "      padding: 0 0 0 0;\n",
       "      width: 32px;\n",
       "    }\n",
       "\n",
       "    .colab-df-convert:hover {\n",
       "      background-color: #E2EBFA;\n",
       "      box-shadow: 0px 1px 2px rgba(60, 64, 67, 0.3), 0px 1px 3px 1px rgba(60, 64, 67, 0.15);\n",
       "      fill: #174EA6;\n",
       "    }\n",
       "\n",
       "    [theme=dark] .colab-df-convert {\n",
       "      background-color: #3B4455;\n",
       "      fill: #D2E3FC;\n",
       "    }\n",
       "\n",
       "    [theme=dark] .colab-df-convert:hover {\n",
       "      background-color: #434B5C;\n",
       "      box-shadow: 0px 1px 3px 1px rgba(0, 0, 0, 0.15);\n",
       "      filter: drop-shadow(0px 1px 2px rgba(0, 0, 0, 0.3));\n",
       "      fill: #FFFFFF;\n",
       "    }\n",
       "  </style>\n",
       "\n",
       "      <script>\n",
       "        const buttonEl =\n",
       "          document.querySelector('#df-a0d95979-8cba-42ee-8f1c-3ebe99bc3301 button.colab-df-convert');\n",
       "        buttonEl.style.display =\n",
       "          google.colab.kernel.accessAllowed ? 'block' : 'none';\n",
       "\n",
       "        async function convertToInteractive(key) {\n",
       "          const element = document.querySelector('#df-a0d95979-8cba-42ee-8f1c-3ebe99bc3301');\n",
       "          const dataTable =\n",
       "            await google.colab.kernel.invokeFunction('convertToInteractive',\n",
       "                                                     [key], {});\n",
       "          if (!dataTable) return;\n",
       "\n",
       "          const docLinkHtml = 'Like what you see? Visit the ' +\n",
       "            '<a target=\"_blank\" href=https://colab.research.google.com/notebooks/data_table.ipynb>data table notebook</a>'\n",
       "            + ' to learn more about interactive tables.';\n",
       "          element.innerHTML = '';\n",
       "          dataTable['output_type'] = 'display_data';\n",
       "          await google.colab.output.renderOutput(dataTable, element);\n",
       "          const docLink = document.createElement('div');\n",
       "          docLink.innerHTML = docLinkHtml;\n",
       "          element.appendChild(docLink);\n",
       "        }\n",
       "      </script>\n",
       "    </div>\n",
       "  </div>\n",
       "  "
      ],
      "text/plain": [
       "   SeriousDlqin2yrs  RevolvingUtilizationOfUnsecuredLines  age  \\\n",
       "0                 1                              0.766127   45   \n",
       "1                 0                              0.957151   40   \n",
       "2                 0                              0.658180   38   \n",
       "3                 0                              0.233810   30   \n",
       "4                 0                              0.907239   49   \n",
       "\n",
       "   NumberOfTime30-59DaysPastDueNotWorse  DebtRatio  MonthlyIncome  \\\n",
       "0                                     2   0.802982         9120.0   \n",
       "1                                     0   0.121876         2600.0   \n",
       "2                                     1   0.085113         3042.0   \n",
       "3                                     0   0.036050         3300.0   \n",
       "4                                     1   0.024926        63588.0   \n",
       "\n",
       "   NumberOfOpenCreditLinesAndLoans  NumberOfTimes90DaysLate  \\\n",
       "0                               13                        0   \n",
       "1                                4                        0   \n",
       "2                                2                        1   \n",
       "3                                5                        0   \n",
       "4                                7                        0   \n",
       "\n",
       "   NumberRealEstateLoansOrLines  NumberOfTime60-89DaysPastDueNotWorse  \\\n",
       "0                             6                                     0   \n",
       "1                             0                                     0   \n",
       "2                             0                                     0   \n",
       "3                             0                                     0   \n",
       "4                             1                                     0   \n",
       "\n",
       "   NumberOfDependents  \n",
       "0                 2.0  \n",
       "1                 1.0  \n",
       "2                 0.0  \n",
       "3                 0.0  \n",
       "4                 0.0  "
      ]
     },
     "execution_count": 5,
     "metadata": {},
     "output_type": "execute_result"
    }
   ],
   "source": [
    "# Take a look at the data \n",
    "df.head()"
   ]
  },
  {
   "cell_type": "code",
   "execution_count": 89,
   "metadata": {
    "colab": {
     "base_uri": "https://localhost:8080/"
    },
    "id": "eyn5qnAMxNtO",
    "outputId": "002ba778-bdd4-401b-f3da-5cc096e6cd9d"
   },
   "outputs": [
    {
     "data": {
      "text/plain": [
       "Index(['SeriousDlqin2yrs', 'RevolvingUtilizationOfUnsecuredLines', 'age',\n",
       "       'NumberOfTime30-59DaysPastDueNotWorse', 'DebtRatio', 'MonthlyIncome',\n",
       "       'NumberOfOpenCreditLinesAndLoans', 'NumberOfTimes90DaysLate',\n",
       "       'NumberRealEstateLoansOrLines', 'NumberOfTime60-89DaysPastDueNotWorse',\n",
       "       'NumberOfDependents'],\n",
       "      dtype='object')"
      ]
     },
     "execution_count": 89,
     "metadata": {},
     "output_type": "execute_result"
    }
   ],
   "source": [
    "df.columns"
   ]
  },
  {
   "cell_type": "markdown",
   "metadata": {
    "id": "QlD-88U5p3K8"
   },
   "source": [
    "####  Exploratory data analysis"
   ]
  },
  {
   "cell_type": "code",
   "execution_count": 6,
   "metadata": {
    "colab": {
     "base_uri": "https://localhost:8080/"
    },
    "id": "zzjexgvYb1rf",
    "outputId": "4ae0ca91-4d68-4390-8882-aed664b307f4"
   },
   "outputs": [
    {
     "name": "stdout",
     "output_type": "stream",
     "text": [
      "<class 'pandas.core.frame.DataFrame'>\n",
      "RangeIndex: 10000 entries, 0 to 9999\n",
      "Data columns (total 11 columns):\n",
      " #   Column                                Non-Null Count  Dtype  \n",
      "---  ------                                --------------  -----  \n",
      " 0   SeriousDlqin2yrs                      10000 non-null  int64  \n",
      " 1   RevolvingUtilizationOfUnsecuredLines  10000 non-null  float64\n",
      " 2   age                                   10000 non-null  int64  \n",
      " 3   NumberOfTime30-59DaysPastDueNotWorse  10000 non-null  int64  \n",
      " 4   DebtRatio                             10000 non-null  float64\n",
      " 5   MonthlyIncome                         8026 non-null   float64\n",
      " 6   NumberOfOpenCreditLinesAndLoans       10000 non-null  int64  \n",
      " 7   NumberOfTimes90DaysLate               10000 non-null  int64  \n",
      " 8   NumberRealEstateLoansOrLines          10000 non-null  int64  \n",
      " 9   NumberOfTime60-89DaysPastDueNotWorse  10000 non-null  int64  \n",
      " 10  NumberOfDependents                    9716 non-null   float64\n",
      "dtypes: float64(4), int64(7)\n",
      "memory usage: 859.5 KB\n"
     ]
    }
   ],
   "source": [
    "# Description of the data\n",
    "df.info()"
   ]
  },
  {
   "cell_type": "markdown",
   "metadata": {
    "id": "sWTLJmiPcOIX"
   },
   "source": [
    "There are 10000 instances in the dataset .Notice that MonthlyIncome has only 8026 non-null values. meaning that 1974 observations are missing\n",
    "this feature. We will need to take care of this later.\n",
    "\n",
    "The same also for NumberOfDependents with 9716 non-null values.\n",
    "\n",
    "All attributes are numerical.\n",
    "\n",
    "So let's show the summary of the numerical attributes."
   ]
  },
  {
   "cell_type": "code",
   "execution_count": 7,
   "metadata": {
    "colab": {
     "base_uri": "https://localhost:8080/",
     "height": 382
    },
    "id": "hbbu8GwgdncY",
    "outputId": "8403ecbb-b7b4-434a-e79f-b3225a830bce"
   },
   "outputs": [
    {
     "data": {
      "text/html": [
       "\n",
       "  <div id=\"df-d20a8a4e-82c3-4a94-9650-f357059e544f\">\n",
       "    <div class=\"colab-df-container\">\n",
       "      <div>\n",
       "<style scoped>\n",
       "    .dataframe tbody tr th:only-of-type {\n",
       "        vertical-align: middle;\n",
       "    }\n",
       "\n",
       "    .dataframe tbody tr th {\n",
       "        vertical-align: top;\n",
       "    }\n",
       "\n",
       "    .dataframe thead th {\n",
       "        text-align: right;\n",
       "    }\n",
       "</style>\n",
       "<table border=\"1\" class=\"dataframe\">\n",
       "  <thead>\n",
       "    <tr style=\"text-align: right;\">\n",
       "      <th></th>\n",
       "      <th>SeriousDlqin2yrs</th>\n",
       "      <th>RevolvingUtilizationOfUnsecuredLines</th>\n",
       "      <th>age</th>\n",
       "      <th>NumberOfTime30-59DaysPastDueNotWorse</th>\n",
       "      <th>DebtRatio</th>\n",
       "      <th>MonthlyIncome</th>\n",
       "      <th>NumberOfOpenCreditLinesAndLoans</th>\n",
       "      <th>NumberOfTimes90DaysLate</th>\n",
       "      <th>NumberRealEstateLoansOrLines</th>\n",
       "      <th>NumberOfTime60-89DaysPastDueNotWorse</th>\n",
       "      <th>NumberOfDependents</th>\n",
       "    </tr>\n",
       "  </thead>\n",
       "  <tbody>\n",
       "    <tr>\n",
       "      <th>count</th>\n",
       "      <td>10000.000000</td>\n",
       "      <td>10000.000000</td>\n",
       "      <td>10000.000000</td>\n",
       "      <td>10000.000000</td>\n",
       "      <td>10000.000000</td>\n",
       "      <td>8026.000000</td>\n",
       "      <td>10000.00000</td>\n",
       "      <td>10000.00000</td>\n",
       "      <td>10000.00000</td>\n",
       "      <td>10000.000000</td>\n",
       "      <td>9716.000000</td>\n",
       "    </tr>\n",
       "    <tr>\n",
       "      <th>mean</th>\n",
       "      <td>0.064000</td>\n",
       "      <td>4.931206</td>\n",
       "      <td>52.164200</td>\n",
       "      <td>0.385100</td>\n",
       "      <td>350.457248</td>\n",
       "      <td>6606.379143</td>\n",
       "      <td>8.34500</td>\n",
       "      <td>0.23150</td>\n",
       "      <td>1.00800</td>\n",
       "      <td>0.202200</td>\n",
       "      <td>0.748868</td>\n",
       "    </tr>\n",
       "    <tr>\n",
       "      <th>std</th>\n",
       "      <td>0.244765</td>\n",
       "      <td>160.479674</td>\n",
       "      <td>14.778792</td>\n",
       "      <td>3.723733</td>\n",
       "      <td>2243.983903</td>\n",
       "      <td>6787.373041</td>\n",
       "      <td>5.06738</td>\n",
       "      <td>3.69154</td>\n",
       "      <td>1.08446</td>\n",
       "      <td>3.675985</td>\n",
       "      <td>1.126723</td>\n",
       "    </tr>\n",
       "    <tr>\n",
       "      <th>min</th>\n",
       "      <td>0.000000</td>\n",
       "      <td>0.000000</td>\n",
       "      <td>21.000000</td>\n",
       "      <td>0.000000</td>\n",
       "      <td>0.000000</td>\n",
       "      <td>0.000000</td>\n",
       "      <td>0.00000</td>\n",
       "      <td>0.00000</td>\n",
       "      <td>0.00000</td>\n",
       "      <td>0.000000</td>\n",
       "      <td>0.000000</td>\n",
       "    </tr>\n",
       "    <tr>\n",
       "      <th>25%</th>\n",
       "      <td>0.000000</td>\n",
       "      <td>0.031135</td>\n",
       "      <td>41.000000</td>\n",
       "      <td>0.000000</td>\n",
       "      <td>0.173605</td>\n",
       "      <td>3400.000000</td>\n",
       "      <td>5.00000</td>\n",
       "      <td>0.00000</td>\n",
       "      <td>0.00000</td>\n",
       "      <td>0.000000</td>\n",
       "      <td>0.000000</td>\n",
       "    </tr>\n",
       "    <tr>\n",
       "      <th>50%</th>\n",
       "      <td>0.000000</td>\n",
       "      <td>0.165328</td>\n",
       "      <td>52.000000</td>\n",
       "      <td>0.000000</td>\n",
       "      <td>0.367083</td>\n",
       "      <td>5400.000000</td>\n",
       "      <td>8.00000</td>\n",
       "      <td>0.00000</td>\n",
       "      <td>1.00000</td>\n",
       "      <td>0.000000</td>\n",
       "      <td>0.000000</td>\n",
       "    </tr>\n",
       "    <tr>\n",
       "      <th>75%</th>\n",
       "      <td>0.000000</td>\n",
       "      <td>0.571746</td>\n",
       "      <td>62.000000</td>\n",
       "      <td>0.000000</td>\n",
       "      <td>0.847257</td>\n",
       "      <td>8200.000000</td>\n",
       "      <td>11.00000</td>\n",
       "      <td>0.00000</td>\n",
       "      <td>2.00000</td>\n",
       "      <td>0.000000</td>\n",
       "      <td>1.000000</td>\n",
       "    </tr>\n",
       "    <tr>\n",
       "      <th>max</th>\n",
       "      <td>1.000000</td>\n",
       "      <td>9340.000000</td>\n",
       "      <td>101.000000</td>\n",
       "      <td>98.000000</td>\n",
       "      <td>168835.000000</td>\n",
       "      <td>208333.000000</td>\n",
       "      <td>46.00000</td>\n",
       "      <td>98.00000</td>\n",
       "      <td>17.00000</td>\n",
       "      <td>98.000000</td>\n",
       "      <td>20.000000</td>\n",
       "    </tr>\n",
       "  </tbody>\n",
       "</table>\n",
       "</div>\n",
       "      <button class=\"colab-df-convert\" onclick=\"convertToInteractive('df-d20a8a4e-82c3-4a94-9650-f357059e544f')\"\n",
       "              title=\"Convert this dataframe to an interactive table.\"\n",
       "              style=\"display:none;\">\n",
       "        \n",
       "  <svg xmlns=\"http://www.w3.org/2000/svg\" height=\"24px\"viewBox=\"0 0 24 24\"\n",
       "       width=\"24px\">\n",
       "    <path d=\"M0 0h24v24H0V0z\" fill=\"none\"/>\n",
       "    <path d=\"M18.56 5.44l.94 2.06.94-2.06 2.06-.94-2.06-.94-.94-2.06-.94 2.06-2.06.94zm-11 1L8.5 8.5l.94-2.06 2.06-.94-2.06-.94L8.5 2.5l-.94 2.06-2.06.94zm10 10l.94 2.06.94-2.06 2.06-.94-2.06-.94-.94-2.06-.94 2.06-2.06.94z\"/><path d=\"M17.41 7.96l-1.37-1.37c-.4-.4-.92-.59-1.43-.59-.52 0-1.04.2-1.43.59L10.3 9.45l-7.72 7.72c-.78.78-.78 2.05 0 2.83L4 21.41c.39.39.9.59 1.41.59.51 0 1.02-.2 1.41-.59l7.78-7.78 2.81-2.81c.8-.78.8-2.07 0-2.86zM5.41 20L4 18.59l7.72-7.72 1.47 1.35L5.41 20z\"/>\n",
       "  </svg>\n",
       "      </button>\n",
       "      \n",
       "  <style>\n",
       "    .colab-df-container {\n",
       "      display:flex;\n",
       "      flex-wrap:wrap;\n",
       "      gap: 12px;\n",
       "    }\n",
       "\n",
       "    .colab-df-convert {\n",
       "      background-color: #E8F0FE;\n",
       "      border: none;\n",
       "      border-radius: 50%;\n",
       "      cursor: pointer;\n",
       "      display: none;\n",
       "      fill: #1967D2;\n",
       "      height: 32px;\n",
       "      padding: 0 0 0 0;\n",
       "      width: 32px;\n",
       "    }\n",
       "\n",
       "    .colab-df-convert:hover {\n",
       "      background-color: #E2EBFA;\n",
       "      box-shadow: 0px 1px 2px rgba(60, 64, 67, 0.3), 0px 1px 3px 1px rgba(60, 64, 67, 0.15);\n",
       "      fill: #174EA6;\n",
       "    }\n",
       "\n",
       "    [theme=dark] .colab-df-convert {\n",
       "      background-color: #3B4455;\n",
       "      fill: #D2E3FC;\n",
       "    }\n",
       "\n",
       "    [theme=dark] .colab-df-convert:hover {\n",
       "      background-color: #434B5C;\n",
       "      box-shadow: 0px 1px 3px 1px rgba(0, 0, 0, 0.15);\n",
       "      filter: drop-shadow(0px 1px 2px rgba(0, 0, 0, 0.3));\n",
       "      fill: #FFFFFF;\n",
       "    }\n",
       "  </style>\n",
       "\n",
       "      <script>\n",
       "        const buttonEl =\n",
       "          document.querySelector('#df-d20a8a4e-82c3-4a94-9650-f357059e544f button.colab-df-convert');\n",
       "        buttonEl.style.display =\n",
       "          google.colab.kernel.accessAllowed ? 'block' : 'none';\n",
       "\n",
       "        async function convertToInteractive(key) {\n",
       "          const element = document.querySelector('#df-d20a8a4e-82c3-4a94-9650-f357059e544f');\n",
       "          const dataTable =\n",
       "            await google.colab.kernel.invokeFunction('convertToInteractive',\n",
       "                                                     [key], {});\n",
       "          if (!dataTable) return;\n",
       "\n",
       "          const docLinkHtml = 'Like what you see? Visit the ' +\n",
       "            '<a target=\"_blank\" href=https://colab.research.google.com/notebooks/data_table.ipynb>data table notebook</a>'\n",
       "            + ' to learn more about interactive tables.';\n",
       "          element.innerHTML = '';\n",
       "          dataTable['output_type'] = 'display_data';\n",
       "          await google.colab.output.renderOutput(dataTable, element);\n",
       "          const docLink = document.createElement('div');\n",
       "          docLink.innerHTML = docLinkHtml;\n",
       "          element.appendChild(docLink);\n",
       "        }\n",
       "      </script>\n",
       "    </div>\n",
       "  </div>\n",
       "  "
      ],
      "text/plain": [
       "       SeriousDlqin2yrs  RevolvingUtilizationOfUnsecuredLines           age  \\\n",
       "count      10000.000000                          10000.000000  10000.000000   \n",
       "mean           0.064000                              4.931206     52.164200   \n",
       "std            0.244765                            160.479674     14.778792   \n",
       "min            0.000000                              0.000000     21.000000   \n",
       "25%            0.000000                              0.031135     41.000000   \n",
       "50%            0.000000                              0.165328     52.000000   \n",
       "75%            0.000000                              0.571746     62.000000   \n",
       "max            1.000000                           9340.000000    101.000000   \n",
       "\n",
       "       NumberOfTime30-59DaysPastDueNotWorse      DebtRatio  MonthlyIncome  \\\n",
       "count                          10000.000000   10000.000000    8026.000000   \n",
       "mean                               0.385100     350.457248    6606.379143   \n",
       "std                                3.723733    2243.983903    6787.373041   \n",
       "min                                0.000000       0.000000       0.000000   \n",
       "25%                                0.000000       0.173605    3400.000000   \n",
       "50%                                0.000000       0.367083    5400.000000   \n",
       "75%                                0.000000       0.847257    8200.000000   \n",
       "max                               98.000000  168835.000000  208333.000000   \n",
       "\n",
       "       NumberOfOpenCreditLinesAndLoans  NumberOfTimes90DaysLate  \\\n",
       "count                      10000.00000              10000.00000   \n",
       "mean                           8.34500                  0.23150   \n",
       "std                            5.06738                  3.69154   \n",
       "min                            0.00000                  0.00000   \n",
       "25%                            5.00000                  0.00000   \n",
       "50%                            8.00000                  0.00000   \n",
       "75%                           11.00000                  0.00000   \n",
       "max                           46.00000                 98.00000   \n",
       "\n",
       "       NumberRealEstateLoansOrLines  NumberOfTime60-89DaysPastDueNotWorse  \\\n",
       "count                   10000.00000                          10000.000000   \n",
       "mean                        1.00800                              0.202200   \n",
       "std                         1.08446                              3.675985   \n",
       "min                         0.00000                              0.000000   \n",
       "25%                         0.00000                              0.000000   \n",
       "50%                         1.00000                              0.000000   \n",
       "75%                         2.00000                              0.000000   \n",
       "max                        17.00000                             98.000000   \n",
       "\n",
       "       NumberOfDependents  \n",
       "count         9716.000000  \n",
       "mean             0.748868  \n",
       "std              1.126723  \n",
       "min              0.000000  \n",
       "25%              0.000000  \n",
       "50%              0.000000  \n",
       "75%              1.000000  \n",
       "max             20.000000  "
      ]
     },
     "execution_count": 7,
     "metadata": {},
     "output_type": "execute_result"
    }
   ],
   "source": [
    "# Descriptive statistics\n",
    "df.describe()"
   ]
  },
  {
   "cell_type": "markdown",
   "metadata": {
    "id": "JMoYc3WeqVkW"
   },
   "source": [
    "The summary of the target variable, ‘SeriousDlqin2yrs’ shows that the target variable takes only 2 values: 0 for no default and 1.\n",
    "\n",
    "Based on a mean of 0.064000, we can tell that the proportion of defaults in the data set is 6.4%. "
   ]
  },
  {
   "cell_type": "code",
   "execution_count": 8,
   "metadata": {
    "colab": {
     "base_uri": "https://localhost:8080/",
     "height": 404
    },
    "id": "4IPlLBnBt433",
    "outputId": "0c9c05c2-26eb-42e1-efde-2d666ae82b34"
   },
   "outputs": [
    {
     "data": {
      "image/png": "[encoded data removed]",
      "text/plain": [
       "<Figure size 864x432 with 2 Axes>"
      ]
     },
     "metadata": {
      "needs_background": "light"
     },
     "output_type": "display_data"
    }
   ],
   "source": [
    "import warnings\n",
    "warnings.filterwarnings('ignore')\n",
    "# Let's check out the distribution of our Target variable\n",
    "fig, axes = plt.subplots(1,2,figsize=(12,6))\n",
    "df['SeriousDlqin2yrs'].value_counts().plot.pie(explode=[0,0.1],autopct='%1.1f%%',ax=axes[0])\n",
    "axes[0].set_title('SeriousDlqin2yrs')\n",
    "#ax[0].set_ylabel('')\n",
    "sns.countplot('SeriousDlqin2yrs',data=df,ax=axes[1])\n",
    "axes[1].set_title('SeriousDlqin2yrs')\n",
    "plt.show()"
   ]
  },
  {
   "cell_type": "markdown",
   "metadata": {
    "id": "WHmkjWkRd9rU"
   },
   "source": [
    "\n",
    "*   SeriousDlqin2yrs is highly skewed variable i.e., very few borrowers have experienced 90 days past due delinquency or worse within 2 years.\n",
    "*   Roughly 6.7% of the borrowers have become defaulters"
   ]
  },
  {
   "cell_type": "markdown",
   "metadata": {
    "id": "7FC7eDpMy5pt"
   },
   "source": [
    "Lets discover more the other features."
   ]
  },
  {
   "cell_type": "code",
   "execution_count": 9,
   "metadata": {
    "colab": {
     "base_uri": "https://localhost:8080/",
     "height": 570
    },
    "id": "xPAOg7jfzJtL",
    "outputId": "0f143aa4-286e-4b6b-8bb6-96b68ab07bfc"
   },
   "outputs": [
    {
     "data": {
      "text/html": [
       "\n",
       "  <div id=\"df-d7e54e0d-6126-4581-bd87-fa7b99c87e02\">\n",
       "    <div class=\"colab-df-container\">\n",
       "      <div>\n",
       "<style scoped>\n",
       "    .dataframe tbody tr th:only-of-type {\n",
       "        vertical-align: middle;\n",
       "    }\n",
       "\n",
       "    .dataframe tbody tr th {\n",
       "        vertical-align: top;\n",
       "    }\n",
       "\n",
       "    .dataframe thead th {\n",
       "        text-align: right;\n",
       "    }\n",
       "</style>\n",
       "<table border=\"1\" class=\"dataframe\">\n",
       "  <thead>\n",
       "    <tr style=\"text-align: right;\">\n",
       "      <th></th>\n",
       "      <th>SeriousDlqin2yrs</th>\n",
       "      <th>RevolvingUtilizationOfUnsecuredLines</th>\n",
       "      <th>age</th>\n",
       "      <th>NumberOfTime30-59DaysPastDueNotWorse</th>\n",
       "      <th>DebtRatio</th>\n",
       "      <th>MonthlyIncome</th>\n",
       "      <th>NumberOfOpenCreditLinesAndLoans</th>\n",
       "      <th>NumberOfTimes90DaysLate</th>\n",
       "      <th>NumberRealEstateLoansOrLines</th>\n",
       "      <th>NumberOfTime60-89DaysPastDueNotWorse</th>\n",
       "      <th>NumberOfDependents</th>\n",
       "    </tr>\n",
       "  </thead>\n",
       "  <tbody>\n",
       "    <tr>\n",
       "      <th>count</th>\n",
       "      <td>10000.00</td>\n",
       "      <td>10000.00</td>\n",
       "      <td>10000.00</td>\n",
       "      <td>10000.00</td>\n",
       "      <td>10000.00</td>\n",
       "      <td>8026.00</td>\n",
       "      <td>10000.00</td>\n",
       "      <td>10000.00</td>\n",
       "      <td>10000.00</td>\n",
       "      <td>10000.00</td>\n",
       "      <td>9716.00</td>\n",
       "    </tr>\n",
       "    <tr>\n",
       "      <th>mean</th>\n",
       "      <td>0.06</td>\n",
       "      <td>4.93</td>\n",
       "      <td>52.16</td>\n",
       "      <td>0.39</td>\n",
       "      <td>350.46</td>\n",
       "      <td>6606.38</td>\n",
       "      <td>8.35</td>\n",
       "      <td>0.23</td>\n",
       "      <td>1.01</td>\n",
       "      <td>0.20</td>\n",
       "      <td>0.75</td>\n",
       "    </tr>\n",
       "    <tr>\n",
       "      <th>std</th>\n",
       "      <td>0.24</td>\n",
       "      <td>160.48</td>\n",
       "      <td>14.78</td>\n",
       "      <td>3.72</td>\n",
       "      <td>2243.98</td>\n",
       "      <td>6787.37</td>\n",
       "      <td>5.07</td>\n",
       "      <td>3.69</td>\n",
       "      <td>1.08</td>\n",
       "      <td>3.68</td>\n",
       "      <td>1.13</td>\n",
       "    </tr>\n",
       "    <tr>\n",
       "      <th>min</th>\n",
       "      <td>0.00</td>\n",
       "      <td>0.00</td>\n",
       "      <td>21.00</td>\n",
       "      <td>0.00</td>\n",
       "      <td>0.00</td>\n",
       "      <td>0.00</td>\n",
       "      <td>0.00</td>\n",
       "      <td>0.00</td>\n",
       "      <td>0.00</td>\n",
       "      <td>0.00</td>\n",
       "      <td>0.00</td>\n",
       "    </tr>\n",
       "    <tr>\n",
       "      <th>1%</th>\n",
       "      <td>0.00</td>\n",
       "      <td>0.00</td>\n",
       "      <td>24.00</td>\n",
       "      <td>0.00</td>\n",
       "      <td>0.00</td>\n",
       "      <td>0.00</td>\n",
       "      <td>0.00</td>\n",
       "      <td>0.00</td>\n",
       "      <td>0.00</td>\n",
       "      <td>0.00</td>\n",
       "      <td>0.00</td>\n",
       "    </tr>\n",
       "    <tr>\n",
       "      <th>5%</th>\n",
       "      <td>0.00</td>\n",
       "      <td>0.00</td>\n",
       "      <td>29.00</td>\n",
       "      <td>0.00</td>\n",
       "      <td>0.00</td>\n",
       "      <td>1320.00</td>\n",
       "      <td>2.00</td>\n",
       "      <td>0.00</td>\n",
       "      <td>0.00</td>\n",
       "      <td>0.00</td>\n",
       "      <td>0.00</td>\n",
       "    </tr>\n",
       "    <tr>\n",
       "      <th>10%</th>\n",
       "      <td>0.00</td>\n",
       "      <td>0.00</td>\n",
       "      <td>33.00</td>\n",
       "      <td>0.00</td>\n",
       "      <td>0.03</td>\n",
       "      <td>2052.50</td>\n",
       "      <td>3.00</td>\n",
       "      <td>0.00</td>\n",
       "      <td>0.00</td>\n",
       "      <td>0.00</td>\n",
       "      <td>0.00</td>\n",
       "    </tr>\n",
       "    <tr>\n",
       "      <th>25%</th>\n",
       "      <td>0.00</td>\n",
       "      <td>0.03</td>\n",
       "      <td>41.00</td>\n",
       "      <td>0.00</td>\n",
       "      <td>0.17</td>\n",
       "      <td>3400.00</td>\n",
       "      <td>5.00</td>\n",
       "      <td>0.00</td>\n",
       "      <td>0.00</td>\n",
       "      <td>0.00</td>\n",
       "      <td>0.00</td>\n",
       "    </tr>\n",
       "    <tr>\n",
       "      <th>50%</th>\n",
       "      <td>0.00</td>\n",
       "      <td>0.17</td>\n",
       "      <td>52.00</td>\n",
       "      <td>0.00</td>\n",
       "      <td>0.37</td>\n",
       "      <td>5400.00</td>\n",
       "      <td>8.00</td>\n",
       "      <td>0.00</td>\n",
       "      <td>1.00</td>\n",
       "      <td>0.00</td>\n",
       "      <td>0.00</td>\n",
       "    </tr>\n",
       "    <tr>\n",
       "      <th>75%</th>\n",
       "      <td>0.00</td>\n",
       "      <td>0.57</td>\n",
       "      <td>62.00</td>\n",
       "      <td>0.00</td>\n",
       "      <td>0.85</td>\n",
       "      <td>8200.00</td>\n",
       "      <td>11.00</td>\n",
       "      <td>0.00</td>\n",
       "      <td>2.00</td>\n",
       "      <td>0.00</td>\n",
       "      <td>1.00</td>\n",
       "    </tr>\n",
       "    <tr>\n",
       "      <th>90%</th>\n",
       "      <td>0.00</td>\n",
       "      <td>0.99</td>\n",
       "      <td>72.00</td>\n",
       "      <td>1.00</td>\n",
       "      <td>1227.00</td>\n",
       "      <td>11600.00</td>\n",
       "      <td>15.00</td>\n",
       "      <td>0.00</td>\n",
       "      <td>2.00</td>\n",
       "      <td>0.00</td>\n",
       "      <td>2.00</td>\n",
       "    </tr>\n",
       "    <tr>\n",
       "      <th>95%</th>\n",
       "      <td>1.00</td>\n",
       "      <td>1.00</td>\n",
       "      <td>78.00</td>\n",
       "      <td>2.00</td>\n",
       "      <td>2367.30</td>\n",
       "      <td>14431.50</td>\n",
       "      <td>18.00</td>\n",
       "      <td>1.00</td>\n",
       "      <td>3.00</td>\n",
       "      <td>1.00</td>\n",
       "      <td>3.00</td>\n",
       "    </tr>\n",
       "    <tr>\n",
       "      <th>99%</th>\n",
       "      <td>1.00</td>\n",
       "      <td>1.06</td>\n",
       "      <td>87.00</td>\n",
       "      <td>3.00</td>\n",
       "      <td>4795.08</td>\n",
       "      <td>25256.25</td>\n",
       "      <td>24.00</td>\n",
       "      <td>3.00</td>\n",
       "      <td>4.00</td>\n",
       "      <td>2.00</td>\n",
       "      <td>4.00</td>\n",
       "    </tr>\n",
       "    <tr>\n",
       "      <th>max</th>\n",
       "      <td>1.00</td>\n",
       "      <td>9340.00</td>\n",
       "      <td>101.00</td>\n",
       "      <td>98.00</td>\n",
       "      <td>168835.00</td>\n",
       "      <td>208333.00</td>\n",
       "      <td>46.00</td>\n",
       "      <td>98.00</td>\n",
       "      <td>17.00</td>\n",
       "      <td>98.00</td>\n",
       "      <td>20.00</td>\n",
       "    </tr>\n",
       "  </tbody>\n",
       "</table>\n",
       "</div>\n",
       "      <button class=\"colab-df-convert\" onclick=\"convertToInteractive('df-d7e54e0d-6126-4581-bd87-fa7b99c87e02')\"\n",
       "              title=\"Convert this dataframe to an interactive table.\"\n",
       "              style=\"display:none;\">\n",
       "        \n",
       "  <svg xmlns=\"http://www.w3.org/2000/svg\" height=\"24px\"viewBox=\"0 0 24 24\"\n",
       "       width=\"24px\">\n",
       "    <path d=\"M0 0h24v24H0V0z\" fill=\"none\"/>\n",
       "    <path d=\"M18.56 5.44l.94 2.06.94-2.06 2.06-.94-2.06-.94-.94-2.06-.94 2.06-2.06.94zm-11 1L8.5 8.5l.94-2.06 2.06-.94-2.06-.94L8.5 2.5l-.94 2.06-2.06.94zm10 10l.94 2.06.94-2.06 2.06-.94-2.06-.94-.94-2.06-.94 2.06-2.06.94z\"/><path d=\"M17.41 7.96l-1.37-1.37c-.4-.4-.92-.59-1.43-.59-.52 0-1.04.2-1.43.59L10.3 9.45l-7.72 7.72c-.78.78-.78 2.05 0 2.83L4 21.41c.39.39.9.59 1.41.59.51 0 1.02-.2 1.41-.59l7.78-7.78 2.81-2.81c.8-.78.8-2.07 0-2.86zM5.41 20L4 18.59l7.72-7.72 1.47 1.35L5.41 20z\"/>\n",
       "  </svg>\n",
       "      </button>\n",
       "      \n",
       "  <style>\n",
       "    .colab-df-container {\n",
       "      display:flex;\n",
       "      flex-wrap:wrap;\n",
       "      gap: 12px;\n",
       "    }\n",
       "\n",
       "    .colab-df-convert {\n",
       "      background-color: #E8F0FE;\n",
       "      border: none;\n",
       "      border-radius: 50%;\n",
       "      cursor: pointer;\n",
       "      display: none;\n",
       "      fill: #1967D2;\n",
       "      height: 32px;\n",
       "      padding: 0 0 0 0;\n",
       "      width: 32px;\n",
       "    }\n",
       "\n",
       "    .colab-df-convert:hover {\n",
       "      background-color: #E2EBFA;\n",
       "      box-shadow: 0px 1px 2px rgba(60, 64, 67, 0.3), 0px 1px 3px 1px rgba(60, 64, 67, 0.15);\n",
       "      fill: #174EA6;\n",
       "    }\n",
       "\n",
       "    [theme=dark] .colab-df-convert {\n",
       "      background-color: #3B4455;\n",
       "      fill: #D2E3FC;\n",
       "    }\n",
       "\n",
       "    [theme=dark] .colab-df-convert:hover {\n",
       "      background-color: #434B5C;\n",
       "      box-shadow: 0px 1px 3px 1px rgba(0, 0, 0, 0.15);\n",
       "      filter: drop-shadow(0px 1px 2px rgba(0, 0, 0, 0.3));\n",
       "      fill: #FFFFFF;\n",
       "    }\n",
       "  </style>\n",
       "\n",
       "      <script>\n",
       "        const buttonEl =\n",
       "          document.querySelector('#df-d7e54e0d-6126-4581-bd87-fa7b99c87e02 button.colab-df-convert');\n",
       "        buttonEl.style.display =\n",
       "          google.colab.kernel.accessAllowed ? 'block' : 'none';\n",
       "\n",
       "        async function convertToInteractive(key) {\n",
       "          const element = document.querySelector('#df-d7e54e0d-6126-4581-bd87-fa7b99c87e02');\n",
       "          const dataTable =\n",
       "            await google.colab.kernel.invokeFunction('convertToInteractive',\n",
       "                                                     [key], {});\n",
       "          if (!dataTable) return;\n",
       "\n",
       "          const docLinkHtml = 'Like what you see? Visit the ' +\n",
       "            '<a target=\"_blank\" href=https://colab.research.google.com/notebooks/data_table.ipynb>data table notebook</a>'\n",
       "            + ' to learn more about interactive tables.';\n",
       "          element.innerHTML = '';\n",
       "          dataTable['output_type'] = 'display_data';\n",
       "          await google.colab.output.renderOutput(dataTable, element);\n",
       "          const docLink = document.createElement('div');\n",
       "          docLink.innerHTML = docLinkHtml;\n",
       "          element.appendChild(docLink);\n",
       "        }\n",
       "      </script>\n",
       "    </div>\n",
       "  </div>\n",
       "  "
      ],
      "text/plain": [
       "       SeriousDlqin2yrs  RevolvingUtilizationOfUnsecuredLines       age  \\\n",
       "count          10000.00                              10000.00  10000.00   \n",
       "mean               0.06                                  4.93     52.16   \n",
       "std                0.24                                160.48     14.78   \n",
       "min                0.00                                  0.00     21.00   \n",
       "1%                 0.00                                  0.00     24.00   \n",
       "5%                 0.00                                  0.00     29.00   \n",
       "10%                0.00                                  0.00     33.00   \n",
       "25%                0.00                                  0.03     41.00   \n",
       "50%                0.00                                  0.17     52.00   \n",
       "75%                0.00                                  0.57     62.00   \n",
       "90%                0.00                                  0.99     72.00   \n",
       "95%                1.00                                  1.00     78.00   \n",
       "99%                1.00                                  1.06     87.00   \n",
       "max                1.00                               9340.00    101.00   \n",
       "\n",
       "       NumberOfTime30-59DaysPastDueNotWorse  DebtRatio  MonthlyIncome  \\\n",
       "count                              10000.00   10000.00        8026.00   \n",
       "mean                                   0.39     350.46        6606.38   \n",
       "std                                    3.72    2243.98        6787.37   \n",
       "min                                    0.00       0.00           0.00   \n",
       "1%                                     0.00       0.00           0.00   \n",
       "5%                                     0.00       0.00        1320.00   \n",
       "10%                                    0.00       0.03        2052.50   \n",
       "25%                                    0.00       0.17        3400.00   \n",
       "50%                                    0.00       0.37        5400.00   \n",
       "75%                                    0.00       0.85        8200.00   \n",
       "90%                                    1.00    1227.00       11600.00   \n",
       "95%                                    2.00    2367.30       14431.50   \n",
       "99%                                    3.00    4795.08       25256.25   \n",
       "max                                   98.00  168835.00      208333.00   \n",
       "\n",
       "       NumberOfOpenCreditLinesAndLoans  NumberOfTimes90DaysLate  \\\n",
       "count                         10000.00                 10000.00   \n",
       "mean                              8.35                     0.23   \n",
       "std                               5.07                     3.69   \n",
       "min                               0.00                     0.00   \n",
       "1%                                0.00                     0.00   \n",
       "5%                                2.00                     0.00   \n",
       "10%                               3.00                     0.00   \n",
       "25%                               5.00                     0.00   \n",
       "50%                               8.00                     0.00   \n",
       "75%                              11.00                     0.00   \n",
       "90%                              15.00                     0.00   \n",
       "95%                              18.00                     1.00   \n",
       "99%                              24.00                     3.00   \n",
       "max                              46.00                    98.00   \n",
       "\n",
       "       NumberRealEstateLoansOrLines  NumberOfTime60-89DaysPastDueNotWorse  \\\n",
       "count                      10000.00                              10000.00   \n",
       "mean                           1.01                                  0.20   \n",
       "std                            1.08                                  3.68   \n",
       "min                            0.00                                  0.00   \n",
       "1%                             0.00                                  0.00   \n",
       "5%                             0.00                                  0.00   \n",
       "10%                            0.00                                  0.00   \n",
       "25%                            0.00                                  0.00   \n",
       "50%                            1.00                                  0.00   \n",
       "75%                            2.00                                  0.00   \n",
       "90%                            2.00                                  0.00   \n",
       "95%                            3.00                                  1.00   \n",
       "99%                            4.00                                  2.00   \n",
       "max                           17.00                                 98.00   \n",
       "\n",
       "       NumberOfDependents  \n",
       "count             9716.00  \n",
       "mean                 0.75  \n",
       "std                  1.13  \n",
       "min                  0.00  \n",
       "1%                   0.00  \n",
       "5%                   0.00  \n",
       "10%                  0.00  \n",
       "25%                  0.00  \n",
       "50%                  0.00  \n",
       "75%                  1.00  \n",
       "90%                  2.00  \n",
       "95%                  3.00  \n",
       "99%                  4.00  \n",
       "max                 20.00  "
      ]
     },
     "execution_count": 9,
     "metadata": {},
     "output_type": "execute_result"
    }
   ],
   "source": [
    "# Statistics Summary\n",
    "round(df.describe(percentiles=[0.01,0.05,0.10,0.25,0.75,0.90,0.95,0.99]),2)"
   ]
  },
  {
   "cell_type": "markdown",
   "metadata": {
    "id": "FheQg-Di0Agp"
   },
   "source": [
    "- SeriousDlqin2yrs variable takes 2 values in training dataset which is what expected 0 & 1.\n",
    "\n",
    "- RevolvingUtilizationOfUnsecuredLines :\n",
    "\n",
    "*Defined as ratio of the total amount of money owed to total credit limit.\n",
    "\n",
    "\n",
    "*It is expected that as this value increases, the proportion of people defaulting should increase as well.\n",
    "*RevolvingUtilizationOfUnsecuredLines has extremely skewed distribution towards the right end of the distribution.\n",
    "\n",
    "- Age : the min is 21 ans max is 87 years old.\n",
    "\n",
    "- NumberOfTime30-59DaysPastDueNotWorse\n",
    "\n",
    "- DebtRatio : we need to look at the distribution plot to know more.\n",
    "\n",
    "- MonthlyIncome : we need to look at the distribution plot to know more.\n",
    "\n",
    "- NumberOfOpenCreditLinesAndLoans : we need to look at the distribution plot to know more.\n",
    "\n",
    "- NumberOfTimes90DaysLate\n",
    "\n",
    "- NumberRealEstateLoansOrLines \n",
    "\n",
    "- NumberOfTime60-89DaysPastDueNotWorse\n",
    "\n",
    "- NumberOfDependents takes the maximum value of 20  , so we need need to examine this values"
   ]
  },
  {
   "cell_type": "code",
   "execution_count": 10,
   "metadata": {
    "colab": {
     "base_uri": "https://localhost:8080/",
     "height": 404
    },
    "id": "sfDADwu-4_0J",
    "outputId": "af39df7f-85a6-4c44-e3c5-ddae8be4ee9e"
   },
   "outputs": [
    {
     "data": {
      "image/png": "[encoded data removed]",
      "text/plain": [
       "<Figure size 1152x432 with 1 Axes>"
      ]
     },
     "metadata": {
      "needs_background": "light"
     },
     "output_type": "display_data"
    }
   ],
   "source": [
    "# Distribution of MonthlyIncome\n",
    "\n",
    "df[\"MonthlyIncome\"].hist(figsize=(16, 6), bins = 50)\n",
    "plt.xlabel('Monthly Income')\n",
    "plt.ylabel('Frequency')\n",
    "plt.title('Monthly Income Distribution');"
   ]
  },
  {
   "cell_type": "markdown",
   "metadata": {
    "id": "-qPjkZCR7RuP"
   },
   "source": [
    "The distribution of MonthlyIncome feature is very skewed potentially because of the presence of the outliers.\n",
    "\n",
    "Also as we have seen that 99% of the people are having an income less than 25256.25(dollars) while only 1% of the borrowers are having an income greater than 25256.25(dollars). So to prevent our model from these outliers we need to winsorize/cap the upper tail of the MonthlyIncome Distribution."
   ]
  },
  {
   "cell_type": "code",
   "execution_count": 11,
   "metadata": {
    "colab": {
     "base_uri": "https://localhost:8080/",
     "height": 295
    },
    "id": "873mmqTV9Z-J",
    "outputId": "ae72383e-e6e2-42a8-fde5-c8bdf1e585d4"
   },
   "outputs": [
    {
     "data": {
      "image/png": "[encoded data removed]",
      "text/plain": [
       "<Figure size 432x288 with 1 Axes>"
      ]
     },
     "metadata": {
      "needs_background": "light"
     },
     "output_type": "display_data"
    }
   ],
   "source": [
    "# Distribution of MonthyIncome after removing maximum value in the variable\n",
    "df.loc[(df['MonthlyIncome'] < 25256.25),\"MonthlyIncome\"].hist(bins=50)\n",
    "plt.xlabel('Monthly Income')\n",
    "plt.ylabel('Frequency')\n",
    "plt.title('Monthly Income Distribution');"
   ]
  },
  {
   "cell_type": "markdown",
   "metadata": {
    "id": "4ZKGFbfS9vwN"
   },
   "source": [
    "After capping the upper tail we can see the distribution more clearly that the distribution is Positively skewed representing that majority of the people are having an income less than 15,000(dollars) even after capping the outliers. This is not actually strange to see this kind of distribution as this is what we observe in real life.\n",
    "\n",
    "We can apply relevant transformation to make the distribution more Gaussian/Normal like."
   ]
  },
  {
   "cell_type": "code",
   "execution_count": 12,
   "metadata": {
    "colab": {
     "base_uri": "https://localhost:8080/",
     "height": 404
    },
    "id": "UeSpQoJL92oH",
    "outputId": "6d71f21b-b304-49a0-ac53-91a75420e807"
   },
   "outputs": [
    {
     "data": {
      "image/png": "[encoded data removed]",
      "text/plain": [
       "<Figure size 1152x432 with 1 Axes>"
      ]
     },
     "metadata": {
      "needs_background": "light"
     },
     "output_type": "display_data"
    }
   ],
   "source": [
    "# Distribution of Age\n",
    "df[\"age\"].hist(figsize=(16, 6), bins = 50)\n",
    "plt.xlabel('Age')\n",
    "plt.ylabel('Frequency')\n",
    "plt.title('Age Distribution');"
   ]
  },
  {
   "cell_type": "markdown",
   "metadata": {
    "id": "Bg2q3HdRBWMl"
   },
   "source": [
    "The distribution looks normal."
   ]
  },
  {
   "cell_type": "code",
   "execution_count": 13,
   "metadata": {
    "colab": {
     "base_uri": "https://localhost:8080/"
    },
    "id": "wARHNn33Bi36",
    "outputId": "3e12fb43-f000-4cd9-bdc0-d2bc7027dfae"
   },
   "outputs": [
    {
     "data": {
      "text/plain": [
       "array([ 2.,  1.,  0., nan,  3.,  4.,  5.,  6.,  8.,  7., 20.])"
      ]
     },
     "execution_count": 13,
     "metadata": {},
     "output_type": "execute_result"
    }
   ],
   "source": [
    "# Distribution of NumberOfDependents\n",
    "df['NumberOfDependents'].unique()"
   ]
  },
  {
   "cell_type": "markdown",
   "metadata": {
    "id": "j36XLdlnBsLK"
   },
   "source": [
    "We notice here that there are missing values in NumberOfDependents feature."
   ]
  },
  {
   "cell_type": "code",
   "execution_count": 14,
   "metadata": {
    "colab": {
     "base_uri": "https://localhost:8080/",
     "height": 307
    },
    "id": "dvWDs0fBB4Sg",
    "outputId": "d35d9514-5075-4ee4-986d-9b32f0e0f9ac"
   },
   "outputs": [
    {
     "data": {
      "image/png": "[encoded data removed]",
      "text/plain": [
       "<Figure size 432x288 with 1 Axes>"
      ]
     },
     "metadata": {
      "needs_background": "light"
     },
     "output_type": "display_data"
    }
   ],
   "source": [
    "#\n",
    "df['NumberOfDependents'].value_counts(normalize=True).plot(kind='bar')\n",
    "plt.xlabel('Number of Dependents')\n",
    "plt.ylabel('Percentage of Dependents')\n",
    "plt.axhline(0.05)\n",
    "plt.title('Distribution of NumberOfDependents(Excluding themselves)');"
   ]
  },
  {
   "cell_type": "markdown",
   "metadata": {
    "id": "rfBJ2WNgCo3f"
   },
   "source": [
    "We observe that the NumberOfDependents>3 appear less than 5% of the times in dataset. That is most of the borrowers have 0-3 number of dependents excluding the borrower in his/her family.\n",
    "\n",
    "As we noted earlier that, we also need to impute missing values of this variable."
   ]
  },
  {
   "cell_type": "code",
   "execution_count": 15,
   "metadata": {
    "colab": {
     "base_uri": "https://localhost:8080/",
     "height": 295
    },
    "id": "gMxvBK8aDYAq",
    "outputId": "e75dc904-dd48-413c-9fb1-5e687117dd23"
   },
   "outputs": [
    {
     "data": {
      "image/png": "[encoded data removed]",
      "text/plain": [
       "<Figure size 432x288 with 1 Axes>"
      ]
     },
     "metadata": {
      "needs_background": "light"
     },
     "output_type": "display_data"
    }
   ],
   "source": [
    "# Distribution of RevolvingUtilizationOfUnsecuredLines\n",
    "df['RevolvingUtilizationOfUnsecuredLines'].hist(bins=50)\n",
    "plt.xlabel('RevolvingUtilizationOfUnsecuredLines')\n",
    "plt.ylabel('Frequency')\n",
    "plt.title('Distribution of RevolvingUtilizationOfUnsecuredLines'); "
   ]
  },
  {
   "cell_type": "code",
   "execution_count": 16,
   "metadata": {
    "colab": {
     "base_uri": "https://localhost:8080/",
     "height": 295
    },
    "id": "jOSmhv3KDkrs",
    "outputId": "86e727ee-6410-4700-9089-57c08c7a8b24"
   },
   "outputs": [
    {
     "data": {
      "image/png": "[encoded data removed]",
      "text/plain": [
       "<Figure size 432x288 with 1 Axes>"
      ]
     },
     "metadata": {
      "needs_background": "light"
     },
     "output_type": "display_data"
    }
   ],
   "source": [
    "#Distribution of RevolvingUtilizationOfUnsecuredLines feature if we cap the upperbound by 97.5th percentile\n",
    "df.loc[df['RevolvingUtilizationOfUnsecuredLines'] < df['RevolvingUtilizationOfUnsecuredLines'].quantile(0.975),'RevolvingUtilizationOfUnsecuredLines'].hist(bins=50);\n",
    "plt.xlabel('RevolvingUtilizationOfUnsecuredLines')\n",
    "plt.ylabel('Frequency')\n",
    "plt.title('Distribution of RevolvingUtilizationOfUnsecuredLines'); "
   ]
  },
  {
   "cell_type": "markdown",
   "metadata": {
    "id": "S_yVbzCJD0S-"
   },
   "source": [
    "- RevolvingUtilizationOfUnsecuredLines\n",
    "Defined as ratio of the total amount of money owed to total credit limit\n",
    "It is expected that as this value increases, the proportion of people defaulting should increase as well.\n",
    "\n",
    "When we cap the upper tail of the distribution of RevolvingUtilizationOfUnsecuredLines feature in the dataset the distribution starts giving us a better and clear picture that most of the borrowers in our dataset have lower RevolvingUtilizationOfUnsecuredLines ratio indicates that most of the borrowers own less money relative to their total credit limit."
   ]
  },
  {
   "cell_type": "code",
   "execution_count": 17,
   "metadata": {
    "colab": {
     "base_uri": "https://localhost:8080/",
     "height": 295
    },
    "id": "yxCsnRqZEDX_",
    "outputId": "65a35c11-8904-48b2-d80e-c1feae7bfc55"
   },
   "outputs": [
    {
     "data": {
      "image/png": "[encoded data removed]",
      "text/plain": [
       "<Figure size 432x288 with 1 Axes>"
      ]
     },
     "metadata": {
      "needs_background": "light"
     },
     "output_type": "display_data"
    }
   ],
   "source": [
    "# Distribution of DebtRatio\n",
    "df['DebtRatio'].hist(bins=50)\n",
    "plt.xlabel('DebtRatio')\n",
    "plt.ylabel('Frequency')\n",
    "plt.title('Distribution of DebtRatio');"
   ]
  },
  {
   "cell_type": "markdown",
   "metadata": {
    "id": "NczcJHPwEMfj"
   },
   "source": [
    "We observe that the distribution of Debt to Income feature is extremely skewed."
   ]
  },
  {
   "cell_type": "code",
   "execution_count": 18,
   "metadata": {
    "colab": {
     "base_uri": "https://localhost:8080/"
    },
    "id": "mStYLX09Ebs2",
    "outputId": "851dc007-2f22-4762-a125-87a8f5b04a28"
   },
   "outputs": [
    {
     "data": {
      "text/plain": [
       "count     10000.000000\n",
       "mean        350.457248\n",
       "std        2243.983903\n",
       "min           0.000000\n",
       "1%            0.000000\n",
       "5%            0.004089\n",
       "10%           0.030747\n",
       "25%           0.173605\n",
       "50%           0.367083\n",
       "75%           0.847257\n",
       "90%        1227.000000\n",
       "95%        2367.300000\n",
       "97.5%      3308.175000\n",
       "99%        4795.080000\n",
       "max      168835.000000\n",
       "Name: DebtRatio, dtype: float64"
      ]
     },
     "execution_count": 18,
     "metadata": {},
     "output_type": "execute_result"
    }
   ],
   "source": [
    "df['DebtRatio'].describe(percentiles=[0.01,0.05,0.10,0.25,0.75,0.90,0.95,0.975,0.99])"
   ]
  },
  {
   "cell_type": "markdown",
   "metadata": {
    "id": "ETLmuUv1Ee9W"
   },
   "source": [
    "We above see that just only 1% of the people are having a debt-to-income ratio greater than 4795.08 in the dataset.\n",
    "These borrowers with such high debt-to-income ratio could be the defaulters so we need to investigate this who are these borrowers with such a high debt-to-income ratio."
   ]
  },
  {
   "cell_type": "code",
   "execution_count": 19,
   "metadata": {
    "colab": {
     "base_uri": "https://localhost:8080/",
     "height": 295
    },
    "id": "tiCruIGFFANy",
    "outputId": "119c8d59-f601-4e8e-bbf5-8e0694ab77b2"
   },
   "outputs": [
    {
     "data": {
      "image/png": "[encoded data removed]",
      "text/plain": [
       "<Figure size 432x288 with 1 Axes>"
      ]
     },
     "metadata": {
      "needs_background": "light"
     },
     "output_type": "display_data"
    }
   ],
   "source": [
    "# Distribution of DebtRatio feature if we cap the upperbound by 95th percentile\n",
    "df.loc[df['DebtRatio'] < df['DebtRatio'].quantile(0.99),'DebtRatio'].hist(bins=50);\n",
    "plt.xlabel('DebtRatio')\n",
    "plt.ylabel('Frequency')\n",
    "plt.title('Distribution of DebtRatio'); "
   ]
  },
  {
   "cell_type": "code",
   "execution_count": 20,
   "metadata": {
    "colab": {
     "base_uri": "https://localhost:8080/"
    },
    "id": "s3ijovh8G29O",
    "outputId": "1db131ee-2344-400b-d8c9-2ba395edf2a6"
   },
   "outputs": [
    {
     "name": "stdout",
     "output_type": "stream",
     "text": [
      "Number of borrowers that have greater than  100% Debt-to-income-Ratio 2315\n",
      "---------------------------------------------------------------------------\n"
     ]
    }
   ],
   "source": [
    "print('Number of borrowers that have greater than  100% Debt-to-income-Ratio',len(df.loc[df['DebtRatio'] > 1 ,'DebtRatio']))\n",
    "print('-'*75)"
   ]
  },
  {
   "cell_type": "markdown",
   "metadata": {
    "id": "FoQ4s_yyHGkv"
   },
   "source": [
    "We above again see that even after capping the distribution the distribution of DebtRatio still looks positively skewed.\n",
    "There are quite high number of borrowers with more than 100% Debt-to-Income ratio in dataset. So it's possible then that these high DebtRatio values might not be outliers."
   ]
  },
  {
   "cell_type": "code",
   "execution_count": 21,
   "metadata": {
    "colab": {
     "base_uri": "https://localhost:8080/"
    },
    "id": "fgiX_siHHNtj",
    "outputId": "9ce7418b-9e4e-4a65-9339-e6ecbe6f6596"
   },
   "outputs": [
    {
     "data": {
      "text/plain": [
       "array([13,  4,  2,  5,  7,  3,  8,  9,  6, 10, 14, 22, 17,  1, 15, 31, 12,\n",
       "       21, 11, 19, 18, 26, 20, 23,  0, 16, 27, 29, 28, 24, 25, 32, 46, 33,\n",
       "       30, 34, 37, 38])"
      ]
     },
     "execution_count": 21,
     "metadata": {},
     "output_type": "execute_result"
    }
   ],
   "source": [
    "# Distribution of NumberOfOpenCreditLinesAndLoans\n",
    "df['NumberOfOpenCreditLinesAndLoans'].unique()"
   ]
  },
  {
   "cell_type": "code",
   "execution_count": 22,
   "metadata": {
    "colab": {
     "base_uri": "https://localhost:8080/",
     "height": 404
    },
    "id": "bonu5A9pHbBb",
    "outputId": "7455d9d9-50e6-42c2-a7a1-32b198c74d8a"
   },
   "outputs": [
    {
     "data": {
      "image/png": "[encoded data removed]",
      "text/plain": [
       "<Figure size 1224x432 with 1 Axes>"
      ]
     },
     "metadata": {
      "needs_background": "light"
     },
     "output_type": "display_data"
    }
   ],
   "source": [
    "plt.figure(figsize=(17,6))\n",
    "# Original Distribution of NumberOfOpenCreditLinesAndLoans\n",
    "df['NumberOfOpenCreditLinesAndLoans'].value_counts(normalize=True).plot(kind='bar')\n",
    "plt.xlabel('Number of Open Credit Lines and Loans')\n",
    "plt.ylabel('Percentage')\n",
    "plt.axhline(0.01)\n",
    "plt.xticks(rotation=0)\n",
    "plt.title('Distribution of NumberOfOpenCreditLinesAndLoans');"
   ]
  },
  {
   "cell_type": "code",
   "execution_count": 23,
   "metadata": {
    "colab": {
     "base_uri": "https://localhost:8080/",
     "height": 279
    },
    "id": "VIgDas8lHnNu",
    "outputId": "35f05742-27f5-47ed-85d0-20f84aaa298f"
   },
   "outputs": [
    {
     "data": {
      "image/png": "[encoded data removed]",
      "text/plain": [
       "<Figure size 432x288 with 1 Axes>"
      ]
     },
     "metadata": {
      "needs_background": "light"
     },
     "output_type": "display_data"
    }
   ],
   "source": [
    "# Plotting the distribution of Number of Open credit lines and loans\n",
    "sns.distplot(df[\"NumberOfOpenCreditLinesAndLoans\"]);"
   ]
  },
  {
   "cell_type": "markdown",
   "metadata": {
    "id": "XpPeK4uDH0DO"
   },
   "source": [
    "- Most of the borrowers are having an open loans(installment like car loan or mortgage) and lines of credit(credit cards) are less than 18.\n",
    "- The distribution is skewed in both the dataset probably because of potential outliers."
   ]
  },
  {
   "cell_type": "code",
   "execution_count": 24,
   "metadata": {
    "colab": {
     "base_uri": "https://localhost:8080/"
    },
    "id": "X291alk2H3zL",
    "outputId": "db42c2af-bed7-4b41-9bec-ffcbe52f7a04"
   },
   "outputs": [
    {
     "data": {
      "text/plain": [
       "array([ 6,  0,  1,  3,  4,  2,  5,  8,  7,  9, 17, 15, 10, 12, 11])"
      ]
     },
     "execution_count": 24,
     "metadata": {},
     "output_type": "execute_result"
    }
   ],
   "source": [
    "# Distribution of NumberRealEstateLoansOrLines\n",
    "\n",
    "df['NumberRealEstateLoansOrLines'].unique()"
   ]
  },
  {
   "cell_type": "code",
   "execution_count": 25,
   "metadata": {
    "colab": {
     "base_uri": "https://localhost:8080/",
     "height": 404
    },
    "id": "yGehFLkzIDdG",
    "outputId": "f38ff34e-84c8-4a0e-a3ae-bcd3f58cedc1"
   },
   "outputs": [
    {
     "data": {
      "image/png": "[encoded data removed]",
      "text/plain": [
       "<Figure size 1224x432 with 1 Axes>"
      ]
     },
     "metadata": {
      "needs_background": "light"
     },
     "output_type": "display_data"
    }
   ],
   "source": [
    "plt.figure(figsize=(17,6))\n",
    "# Original Distribution of NumberRealEstateLoansOrLines\n",
    "df['NumberRealEstateLoansOrLines'].value_counts(normalize=True).plot(kind='bar')\n",
    "plt.xlabel('Number of Real Estate Loans or Lines')\n",
    "plt.ylabel('Percentage')\n",
    "plt.axhline(0.05)\n",
    "plt.xticks(rotation=0)\n",
    "plt.title('Distribution of NumberRealEstateLoansOrLines');"
   ]
  },
  {
   "cell_type": "markdown",
   "metadata": {
    "id": "Zb3BWItuINzR"
   },
   "source": [
    "- Most of the borrowers are having Real estate loans or lines less than or equal to 2. "
   ]
  },
  {
   "cell_type": "code",
   "execution_count": 26,
   "metadata": {
    "colab": {
     "base_uri": "https://localhost:8080/"
    },
    "id": "jWnARhg5IUGq",
    "outputId": "9a62f831-87e2-4ae7-ae8c-fd483fab8255"
   },
   "outputs": [
    {
     "data": {
      "text/plain": [
       "array([ 2,  0,  1,  3,  4,  5,  7, 10,  6, 98, 12,  8])"
      ]
     },
     "execution_count": 26,
     "metadata": {},
     "output_type": "execute_result"
    }
   ],
   "source": [
    "# Distribution of NumberOfTime30-59DaysPastDueNotWorse\n",
    "df['NumberOfTime30-59DaysPastDueNotWorse'].unique()\n"
   ]
  },
  {
   "cell_type": "code",
   "execution_count": 27,
   "metadata": {
    "colab": {
     "base_uri": "https://localhost:8080/",
     "height": 404
    },
    "id": "X9StxBSVIaw1",
    "outputId": "afd8423d-cc45-40fd-acf7-7aea70d27862"
   },
   "outputs": [
    {
     "data": {
      "image/png": "[encoded data removed]",
      "text/plain": [
       "<Figure size 1224x432 with 1 Axes>"
      ]
     },
     "metadata": {
      "needs_background": "light"
     },
     "output_type": "display_data"
    }
   ],
   "source": [
    "plt.figure(figsize=(17,6))\n",
    "# Original Distribution of NumberOfTime30-59DaysPastDueNotWorse in training dataset\n",
    "df['NumberOfTime30-59DaysPastDueNotWorse'].value_counts(normalize=True).plot(kind='bar')\n",
    "plt.xlabel('Number of Times 30-59 Days past due but not Worse in the last 2 years')\n",
    "plt.ylabel('Percentage')\n",
    "plt.axhline(0.05)\n",
    "plt.xticks(rotation=0)\n",
    "plt.title('Distribution of NumberOfTime30-59DaysPastDueNotWorse');"
   ]
  },
  {
   "cell_type": "markdown",
   "metadata": {
    "id": "sCh1iWVSIvZe"
   },
   "source": [
    "We see that most of the customer have either paid their payment on time i.e., the value=0 or they have been late in making the payment only 1-time and there are very few number of times the borrowers have been late 30-59 days past.\n",
    "\n",
    "But there are some borrowers who have been late 98 times and there are no borrowers who have made late payment more than 12 times and less than 98 times, this is strange!!!"
   ]
  },
  {
   "cell_type": "code",
   "execution_count": 28,
   "metadata": {
    "colab": {
     "base_uri": "https://localhost:8080/"
    },
    "id": "XWcUHdIGM7Fl",
    "outputId": "544e7653-1498-4edd-e660-625e0cbf27a9"
   },
   "outputs": [
    {
     "data": {
      "text/plain": [
       "array([ 0,  1,  2,  5,  3, 98,  4,  6])"
      ]
     },
     "execution_count": 28,
     "metadata": {},
     "output_type": "execute_result"
    }
   ],
   "source": [
    "# Distribution of NumberOfTime60-89DaysPastDueNotWorse\n",
    "df['NumberOfTime60-89DaysPastDueNotWorse'].unique()"
   ]
  },
  {
   "cell_type": "code",
   "execution_count": 29,
   "metadata": {
    "colab": {
     "base_uri": "https://localhost:8080/",
     "height": 404
    },
    "id": "dhcIdpTJNCQR",
    "outputId": "13f3f27d-1ca9-4d3d-f4c8-3d3a2bd096ea"
   },
   "outputs": [
    {
     "data": {
      "image/png": "[encoded data removed]",
      "text/plain": [
       "<Figure size 1224x432 with 1 Axes>"
      ]
     },
     "metadata": {
      "needs_background": "light"
     },
     "output_type": "display_data"
    }
   ],
   "source": [
    "plt.figure(figsize=(17,6))\n",
    "# Original Distribution of NumberOfTime60-89DaysPastDueNotWorse\n",
    "df['NumberOfTime60-89DaysPastDueNotWorse'].value_counts(normalize=True).plot(kind='bar')\n",
    "plt.xlabel('Number of Times 60-89 Days past due not Worse')\n",
    "plt.ylabel('Percentage')\n",
    "plt.axhline(0.05)\n",
    "plt.xticks(rotation=0)\n",
    "plt.title('Distribution of NumberOfTime60-89DaysPastDueNotWorse');"
   ]
  },
  {
   "cell_type": "markdown",
   "metadata": {
    "id": "HdUzIq2CNSuc"
   },
   "source": [
    "Similarily, there are zero number of times a borrower has been 60-89 days late in making the payment.\n",
    "There are some borrowers who have made late payment 98 times. Again these number look strange!"
   ]
  },
  {
   "cell_type": "code",
   "execution_count": 30,
   "metadata": {
    "colab": {
     "base_uri": "https://localhost:8080/"
    },
    "id": "plAlJfwwNlii",
    "outputId": "f53486f0-bd2a-4a0a-9f93-b73441b33731"
   },
   "outputs": [
    {
     "data": {
      "text/plain": [
       "array([ 0,  1,  3,  2,  5,  4, 98, 10,  9,  6,  7,  8])"
      ]
     },
     "execution_count": 30,
     "metadata": {},
     "output_type": "execute_result"
    }
   ],
   "source": [
    "# Distribution of NumberOfTimes90DaysLate\n",
    "df['NumberOfTimes90DaysLate'].unique()"
   ]
  },
  {
   "cell_type": "code",
   "execution_count": 31,
   "metadata": {
    "colab": {
     "base_uri": "https://localhost:8080/",
     "height": 404
    },
    "id": "IhgcBTKMNrp_",
    "outputId": "7e9c99f7-05ad-4376-ed33-074d6a9d57ed"
   },
   "outputs": [
    {
     "data": {
      "image/png": "[encoded data removed]",
      "text/plain": [
       "<Figure size 1224x432 with 1 Axes>"
      ]
     },
     "metadata": {
      "needs_background": "light"
     },
     "output_type": "display_data"
    }
   ],
   "source": [
    "plt.figure(figsize=(17,6))\n",
    "# Original Distribution of NumberOfTimes90DaysLate\n",
    "df['NumberOfTimes90DaysLate'].value_counts(normalize=True).plot(kind='bar')\n",
    "plt.xlabel('Number of Times 90 Days Late')\n",
    "plt.ylabel('Percentage')\n",
    "plt.axhline(0.05)\n",
    "plt.xticks(rotation=0)\n",
    "plt.title('Distribution of NumberOfTimes90DaysLate');"
   ]
  },
  {
   "cell_type": "markdown",
   "metadata": {
    "id": "NPeaX9PpN10w"
   },
   "source": [
    "Similarily, here as well, there are very zero number of times a borrower has been late beyond 90 days in making the payment.\n",
    "\n",
    "Again there are some strange values taken by this variable i.e. 98."
   ]
  },
  {
   "cell_type": "code",
   "execution_count": 32,
   "metadata": {
    "colab": {
     "base_uri": "https://localhost:8080/",
     "height": 913
    },
    "id": "guUPIjCrOFmy",
    "outputId": "584d64a7-6b84-43bb-addd-da9c82bf2088"
   },
   "outputs": [
    {
     "data": {
      "image/png": "[encoded data removed]",
      "text/plain": [
       "<Figure size 864x864 with 2 Axes>"
      ]
     },
     "metadata": {
      "needs_background": "light"
     },
     "output_type": "display_data"
    }
   ],
   "source": [
    "# Correlation\n",
    "plt.figure(figsize=(12,12))\n",
    "sns.heatmap(df.corr(),annot=True);"
   ]
  },
  {
   "cell_type": "markdown",
   "metadata": {
    "id": "9WdplXz21oOx"
   },
   "source": [
    "# Data preparation \n",
    "## Missing value\n",
    "\n",
    "Any variables with count not equal to 10000, have missing values. There are 2 such variables: ‘MonthlyIncome’ and ‘NumberOfDependents’. Since the missing values did not exceed 25% of the data, let’s replace the missing values with the median of the variables."
   ]
  },
  {
   "cell_type": "code",
   "execution_count": 33,
   "metadata": {
    "colab": {
     "base_uri": "https://localhost:8080/"
    },
    "id": "qR9bSMwh2AO9",
    "outputId": "ddfa06a5-3bdd-42ff-ca78-8bba1924c684"
   },
   "outputs": [
    {
     "data": {
      "text/plain": [
       "SeriousDlqin2yrs                           0\n",
       "RevolvingUtilizationOfUnsecuredLines       0\n",
       "age                                        0\n",
       "NumberOfTime30-59DaysPastDueNotWorse       0\n",
       "DebtRatio                                  0\n",
       "MonthlyIncome                           1974\n",
       "NumberOfOpenCreditLinesAndLoans            0\n",
       "NumberOfTimes90DaysLate                    0\n",
       "NumberRealEstateLoansOrLines               0\n",
       "NumberOfTime60-89DaysPastDueNotWorse       0\n",
       "NumberOfDependents                       284\n",
       "dtype: int64"
      ]
     },
     "execution_count": 33,
     "metadata": {},
     "output_type": "execute_result"
    }
   ],
   "source": [
    "df.isnull().sum(axis=0)"
   ]
  },
  {
   "cell_type": "code",
   "execution_count": 34,
   "metadata": {
    "id": "K_Zprwxg2LJY"
   },
   "outputs": [],
   "source": [
    "# Replace Na\n",
    "\n",
    "# Replace NA with median values\n",
    "fill_values = {}\n",
    "for i in range(2, df.shape[1]):\n",
    "    fill_values[df.columns[i]] = np.nanmedian(df[df.columns[i]])\n",
    "df2 = df.fillna(fill_values)"
   ]
  },
  {
   "cell_type": "code",
   "execution_count": 35,
   "metadata": {
    "colab": {
     "base_uri": "https://localhost:8080/"
    },
    "id": "AdA_3Z483WVg",
    "outputId": "949fbe32-4ffc-4e64-a257-c26970ad206c"
   },
   "outputs": [
    {
     "name": "stdout",
     "output_type": "stream",
     "text": [
      "<class 'pandas.core.frame.DataFrame'>\n",
      "RangeIndex: 10000 entries, 0 to 9999\n",
      "Data columns (total 11 columns):\n",
      " #   Column                                Non-Null Count  Dtype  \n",
      "---  ------                                --------------  -----  \n",
      " 0   SeriousDlqin2yrs                      10000 non-null  int64  \n",
      " 1   RevolvingUtilizationOfUnsecuredLines  10000 non-null  float64\n",
      " 2   age                                   10000 non-null  int64  \n",
      " 3   NumberOfTime30-59DaysPastDueNotWorse  10000 non-null  int64  \n",
      " 4   DebtRatio                             10000 non-null  float64\n",
      " 5   MonthlyIncome                         10000 non-null  float64\n",
      " 6   NumberOfOpenCreditLinesAndLoans       10000 non-null  int64  \n",
      " 7   NumberOfTimes90DaysLate               10000 non-null  int64  \n",
      " 8   NumberRealEstateLoansOrLines          10000 non-null  int64  \n",
      " 9   NumberOfTime60-89DaysPastDueNotWorse  10000 non-null  int64  \n",
      " 10  NumberOfDependents                    10000 non-null  float64\n",
      "dtypes: float64(4), int64(7)\n",
      "memory usage: 859.5 KB\n"
     ]
    }
   ],
   "source": [
    "df2.info()"
   ]
  },
  {
   "cell_type": "code",
   "execution_count": 36,
   "metadata": {
    "colab": {
     "base_uri": "https://localhost:8080/"
    },
    "id": "DiAbVfvk952b",
    "outputId": "d7443fb2-56d0-49f7-f19c-2f10c465354a"
   },
   "outputs": [
    {
     "name": "stdout",
     "output_type": "stream",
     "text": [
      "(10000, 10)\n"
     ]
    }
   ],
   "source": [
    "dataset = df2.loc[:, df.columns != 'SeriousDlqin2yrs']\n",
    "print(dataset.shape)\n",
    "dataset['RevolvingUtilizationOfUnsecuredLines'] = np.log(dataset['RevolvingUtilizationOfUnsecuredLines'] + 1)\n",
    "dataset['NumberOfTimes90DaysLate'] = np.log(dataset['NumberOfTimes90DaysLate'] + 1)\n",
    "dataset['NumberOfTime60-89DaysPastDueNotWorse'] = np.log(dataset['NumberOfTime60-89DaysPastDueNotWorse'] + 1)\n",
    "dataset['NumberOfTime30-59DaysPastDueNotWorse'] = np.log(dataset['NumberOfTime30-59DaysPastDueNotWorse'] + 1)\n",
    "dataset['NumberRealEstateLoansOrLines'] = np.log(dataset['NumberRealEstateLoansOrLines'] + 1)\n",
    "dataset['MonthlyIncome'] = np.log(dataset['MonthlyIncome'] + 1)\n"
   ]
  },
  {
   "cell_type": "code",
   "execution_count": 37,
   "metadata": {
    "colab": {
     "base_uri": "https://localhost:8080/",
     "height": 657
    },
    "id": "rFwYuLs_QpDl",
    "outputId": "7973cec9-7a19-41e3-ba62-63b2d3c708d6"
   },
   "outputs": [
    {
     "data": {
      "image/png": "[encoded data removed]",
      "text/plain": [
       "<Figure size 864x648 with 10 Axes>"
      ]
     },
     "metadata": {
      "needs_background": "light"
     },
     "output_type": "display_data"
    }
   ],
   "source": [
    "df_melt = dataset.melt()\n",
    "\n",
    "# Use seaborn's facetgrid function to plot the density distributions of all variables on a single graph\n",
    "g = sns.FacetGrid(df_melt, col=\"variable\", col_wrap=4, sharex=False, sharey=False)\n",
    "g = g.map(sns.kdeplot, \"value\", shade=True)\n",
    "# Show the plot\n",
    "plt.show()"
   ]
  },
  {
   "cell_type": "code",
   "execution_count": 38,
   "metadata": {
    "id": "_lfXsM7VVHi5"
   },
   "outputs": [],
   "source": [
    "# before we convert target variable to \n",
    "df2.SeriousDlqin2yrs = (df2.SeriousDlqin2yrs).astype('category')"
   ]
  },
  {
   "cell_type": "code",
   "execution_count": 39,
   "metadata": {
    "id": "gcthr9WQTDvh"
   },
   "outputs": [],
   "source": [
    "# split data to train and test\n",
    "from sklearn.model_selection import train_test_split\n",
    "X_train, X_test, y_train, y_test = train_test_split(dataset,df2['SeriousDlqin2yrs'],test_size = 0.3,random_state=100,shuffle = True)"
   ]
  },
  {
   "cell_type": "code",
   "execution_count": 40,
   "metadata": {
    "colab": {
     "base_uri": "https://localhost:8080/"
    },
    "id": "yXiSQyF2ZAli",
    "outputId": "3697eee7-9630-4a59-f14e-e1276899dc93"
   },
   "outputs": [
    {
     "name": "stdout",
     "output_type": "stream",
     "text": [
      "0.06257142857142857\n",
      "0.06733333333333333\n"
     ]
    }
   ],
   "source": [
    "print(y_train.value_counts()[1]/X_train.shape[0])\n",
    "print(y_test.value_counts()[1]/X_test.shape[0])"
   ]
  },
  {
   "cell_type": "markdown",
   "metadata": {
    "id": "8YoWLXSrZQqw"
   },
   "source": [
    "We can see that only approximately 7% of our data has ‘SeriousDlqin2yrs’ as 1 which means that the dataset is highly imbalanced which is normal when doing any kinds of anomaly detection."
   ]
  },
  {
   "cell_type": "code",
   "execution_count": 41,
   "metadata": {
    "id": "fI4nN-yRdb6M"
   },
   "outputs": [],
   "source": [
    "# Algorithms\n",
    "from sklearn.linear_model import LogisticRegression\n",
    "from sklearn.ensemble import RandomForestClassifier"
   ]
  },
  {
   "cell_type": "code",
   "execution_count": 42,
   "metadata": {
    "colab": {
     "base_uri": "https://localhost:8080/"
    },
    "id": "6LQdNy5HaipB",
    "outputId": "6d466eb8-e3bc-477d-d61c-8e9e28afa7cd"
   },
   "outputs": [
    {
     "name": "stdout",
     "output_type": "stream",
     "text": [
      "82.39 %\n"
     ]
    }
   ],
   "source": [
    "# logistic regression: \n",
    "\n",
    "logreg = LogisticRegression(random_state=42, class_weight='balanced')\n",
    "logreg.fit(X_train, y_train)\n",
    "\n",
    "y_pred_log = logreg.predict(X_test)\n",
    "\n",
    "acc_log = round(logreg.score(X_train, y_train) * 100, 2)\n",
    "print(round(acc_log,2,), \"%\")"
   ]
  },
  {
   "cell_type": "code",
   "execution_count": 43,
   "metadata": {
    "colab": {
     "base_uri": "https://localhost:8080/"
    },
    "id": "npE60oT4gXLa",
    "outputId": "c8bb0587-e5d9-4b92-a72d-1c02765533d3"
   },
   "outputs": [
    {
     "name": "stdout",
     "output_type": "stream",
     "text": [
      "99.99 %\n"
     ]
    }
   ],
   "source": [
    "# Random Forest\n",
    "random_forest = RandomForestClassifier(n_estimators=100)\n",
    "random_forest.fit(X_train, y_train)\n",
    "\n",
    "y_pred_rf = random_forest.predict(X_test)\n",
    "\n",
    "random_forest.score(X_train, y_train)\n",
    "acc_random_forest = round(random_forest.score(X_train, y_train) * 100, 2)\n",
    "print(round(acc_random_forest,2,), \"%\")"
   ]
  },
  {
   "cell_type": "code",
   "execution_count": 44,
   "metadata": {
    "colab": {
     "base_uri": "https://localhost:8080/",
     "height": 143
    },
    "id": "cPzqIFw2gzop",
    "outputId": "6fdd0fe9-3dd5-4a04-9466-9c6b3dafa8b0"
   },
   "outputs": [
    {
     "data": {
      "text/html": [
       "\n",
       "  <div id=\"df-3e641449-65d2-49bb-9ea9-428e12c87a6e\">\n",
       "    <div class=\"colab-df-container\">\n",
       "      <div>\n",
       "<style scoped>\n",
       "    .dataframe tbody tr th:only-of-type {\n",
       "        vertical-align: middle;\n",
       "    }\n",
       "\n",
       "    .dataframe tbody tr th {\n",
       "        vertical-align: top;\n",
       "    }\n",
       "\n",
       "    .dataframe thead th {\n",
       "        text-align: right;\n",
       "    }\n",
       "</style>\n",
       "<table border=\"1\" class=\"dataframe\">\n",
       "  <thead>\n",
       "    <tr style=\"text-align: right;\">\n",
       "      <th></th>\n",
       "      <th>Model</th>\n",
       "    </tr>\n",
       "    <tr>\n",
       "      <th>Score</th>\n",
       "      <th></th>\n",
       "    </tr>\n",
       "  </thead>\n",
       "  <tbody>\n",
       "    <tr>\n",
       "      <th>99.99</th>\n",
       "      <td>Random Forest</td>\n",
       "    </tr>\n",
       "    <tr>\n",
       "      <th>82.39</th>\n",
       "      <td>Logistic Regression</td>\n",
       "    </tr>\n",
       "  </tbody>\n",
       "</table>\n",
       "</div>\n",
       "      <button class=\"colab-df-convert\" onclick=\"convertToInteractive('df-3e641449-65d2-49bb-9ea9-428e12c87a6e')\"\n",
       "              title=\"Convert this dataframe to an interactive table.\"\n",
       "              style=\"display:none;\">\n",
       "        \n",
       "  <svg xmlns=\"http://www.w3.org/2000/svg\" height=\"24px\"viewBox=\"0 0 24 24\"\n",
       "       width=\"24px\">\n",
       "    <path d=\"M0 0h24v24H0V0z\" fill=\"none\"/>\n",
       "    <path d=\"M18.56 5.44l.94 2.06.94-2.06 2.06-.94-2.06-.94-.94-2.06-.94 2.06-2.06.94zm-11 1L8.5 8.5l.94-2.06 2.06-.94-2.06-.94L8.5 2.5l-.94 2.06-2.06.94zm10 10l.94 2.06.94-2.06 2.06-.94-2.06-.94-.94-2.06-.94 2.06-2.06.94z\"/><path d=\"M17.41 7.96l-1.37-1.37c-.4-.4-.92-.59-1.43-.59-.52 0-1.04.2-1.43.59L10.3 9.45l-7.72 7.72c-.78.78-.78 2.05 0 2.83L4 21.41c.39.39.9.59 1.41.59.51 0 1.02-.2 1.41-.59l7.78-7.78 2.81-2.81c.8-.78.8-2.07 0-2.86zM5.41 20L4 18.59l7.72-7.72 1.47 1.35L5.41 20z\"/>\n",
       "  </svg>\n",
       "      </button>\n",
       "      \n",
       "  <style>\n",
       "    .colab-df-container {\n",
       "      display:flex;\n",
       "      flex-wrap:wrap;\n",
       "      gap: 12px;\n",
       "    }\n",
       "\n",
       "    .colab-df-convert {\n",
       "      background-color: #E8F0FE;\n",
       "      border: none;\n",
       "      border-radius: 50%;\n",
       "      cursor: pointer;\n",
       "      display: none;\n",
       "      fill: #1967D2;\n",
       "      height: 32px;\n",
       "      padding: 0 0 0 0;\n",
       "      width: 32px;\n",
       "    }\n",
       "\n",
       "    .colab-df-convert:hover {\n",
       "      background-color: #E2EBFA;\n",
       "      box-shadow: 0px 1px 2px rgba(60, 64, 67, 0.3), 0px 1px 3px 1px rgba(60, 64, 67, 0.15);\n",
       "      fill: #174EA6;\n",
       "    }\n",
       "\n",
       "    [theme=dark] .colab-df-convert {\n",
       "      background-color: #3B4455;\n",
       "      fill: #D2E3FC;\n",
       "    }\n",
       "\n",
       "    [theme=dark] .colab-df-convert:hover {\n",
       "      background-color: #434B5C;\n",
       "      box-shadow: 0px 1px 3px 1px rgba(0, 0, 0, 0.15);\n",
       "      filter: drop-shadow(0px 1px 2px rgba(0, 0, 0, 0.3));\n",
       "      fill: #FFFFFF;\n",
       "    }\n",
       "  </style>\n",
       "\n",
       "      <script>\n",
       "        const buttonEl =\n",
       "          document.querySelector('#df-3e641449-65d2-49bb-9ea9-428e12c87a6e button.colab-df-convert');\n",
       "        buttonEl.style.display =\n",
       "          google.colab.kernel.accessAllowed ? 'block' : 'none';\n",
       "\n",
       "        async function convertToInteractive(key) {\n",
       "          const element = document.querySelector('#df-3e641449-65d2-49bb-9ea9-428e12c87a6e');\n",
       "          const dataTable =\n",
       "            await google.colab.kernel.invokeFunction('convertToInteractive',\n",
       "                                                     [key], {});\n",
       "          if (!dataTable) return;\n",
       "\n",
       "          const docLinkHtml = 'Like what you see? Visit the ' +\n",
       "            '<a target=\"_blank\" href=https://colab.research.google.com/notebooks/data_table.ipynb>data table notebook</a>'\n",
       "            + ' to learn more about interactive tables.';\n",
       "          element.innerHTML = '';\n",
       "          dataTable['output_type'] = 'display_data';\n",
       "          await google.colab.output.renderOutput(dataTable, element);\n",
       "          const docLink = document.createElement('div');\n",
       "          docLink.innerHTML = docLinkHtml;\n",
       "          element.appendChild(docLink);\n",
       "        }\n",
       "      </script>\n",
       "    </div>\n",
       "  </div>\n",
       "  "
      ],
      "text/plain": [
       "                     Model\n",
       "Score                     \n",
       "99.99        Random Forest\n",
       "82.39  Logistic Regression"
      ]
     },
     "execution_count": 44,
     "metadata": {},
     "output_type": "execute_result"
    }
   ],
   "source": [
    "results = pd.DataFrame({\n",
    "    'Model': [ 'Logistic Regression', \n",
    "              'Random Forest'],\n",
    "    'Score': [acc_log, \n",
    "              acc_random_forest]})\n",
    "result_df = results.sort_values(by='Score', ascending=False)\n",
    "result_df = result_df.set_index('Score')\n",
    "result_df.head(9)"
   ]
  },
  {
   "cell_type": "markdown",
   "metadata": {},
   "source": [
    "#### Features importance for logistic regression"
   ]
  },
  {
   "cell_type": "code",
   "execution_count": 45,
   "metadata": {
    "id": "BYF_V4JchObQ"
   },
   "outputs": [],
   "source": [
    "# features importance for logistic regression\n",
    "importance_df = pd.DataFrame({'feature': X_train.columns,\n",
    "              'coefficient': logreg.coef_.flatten().tolist()}).sort_values(by='coefficient', ascending=False)"
   ]
  },
  {
   "cell_type": "code",
   "execution_count": 46,
   "metadata": {
    "colab": {
     "base_uri": "https://localhost:8080/",
     "height": 404
    },
    "id": "BgkpPY4bhejV",
    "outputId": "0cb8bd59-6fee-498f-c378-328a233b92df"
   },
   "outputs": [
    {
     "data": {
      "image/png": "[encoded data removed]",
      "text/plain": [
       "<Figure size 720x432 with 1 Axes>"
      ]
     },
     "metadata": {
      "needs_background": "light"
     },
     "output_type": "display_data"
    }
   ],
   "source": [
    "plt.figure(figsize=(10,6))\n",
    "plt.title('Feature Importance')\n",
    "sns.barplot(data=importance_df, x='coefficient', y='feature');"
   ]
  },
  {
   "cell_type": "markdown",
   "metadata": {},
   "source": [
    "The feature with the highest importance is NumberOfTime30-59DaysPastDueNotWorse , followed by NumberOfTimes90DaysLate ,RevolvingUtilizationOfUnsecuredLines and NumberOfTime60-89DaysPastDueNotWorse.\n",
    "The remaining features have lower importance in the model. This suggests that they may have a lesser impact on the model's predictions compared to the top four features.\n"
   ]
  }
 ],
 "metadata": {
  "colab": {
   "provenance": []
  },
  "kernelspec": {
   "display_name": "Python 3 (ipykernel)",
   "language": "python",
   "name": "python3"
  },
  "language_info": {
   "codemirror_mode": {
    "name": "ipython",
    "version": 3
   },
   "file_extension": ".py",
   "mimetype": "text/x-python",
   "name": "python",
   "nbconvert_exporter": "python",
   "pygments_lexer": "ipython3",
   "version": "3.9.13"
  }
 },
 "nbformat": 4,
 "nbformat_minor": 1
}
